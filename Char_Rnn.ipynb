{
  "nbformat": 4,
  "nbformat_minor": 0,
  "metadata": {
    "colab": {
      "provenance": []
    },
    "kernelspec": {
      "name": "python3",
      "display_name": "Python 3"
    },
    "language_info": {
      "name": "python"
    },
    "accelerator": "GPU",
    "gpuClass": "standard"
  },
  "cells": [
    {
      "cell_type": "markdown",
      "source": [
        "**Generating Sherlock Holmes Passages Using a Character-Level RNN**\n",
        "\n",
        "**Yash Potdar**\n",
        "\n",
        "- Code referenced from [this article](https://notebook.community/spro/practical-pytorch/char-rnn-generation/char-rnn-generation).\n",
        "  - Code uses Shakespeare dataset, but I use Sherlock Holmes and debugged the code in `train` function.\n",
        "  - I use their RNN implementation, but add many iterations of architectures using various combinations of hyperparameters."
      ],
      "metadata": {
        "id": "41cAfqkA1Ip2"
      }
    },
    {
      "cell_type": "code",
      "execution_count": null,
      "metadata": {
        "colab": {
          "base_uri": "https://localhost:8080/"
        },
        "id": "v_qwMKLeapcn",
        "outputId": "3331142a-06d0-449b-94a6-cddb069be92e"
      },
      "outputs": [
        {
          "output_type": "execute_result",
          "data": {
            "text/plain": [
              "device(type='cuda', index=0)"
            ]
          },
          "metadata": {},
          "execution_count": 55
        }
      ],
      "source": [
        "# Text file and preprocessing imports\n",
        "import unidecode\n",
        "import string\n",
        "import random\n",
        "import re\n",
        "\n",
        "# PyTorch imports\n",
        "import torch\n",
        "import torch.nn as nn\n",
        "from torch.autograd import Variable\n",
        "\n",
        "# Training time imports\n",
        "import time\n",
        "import math\n",
        "\n",
        "# Plotting imports\n",
        "import matplotlib.pyplot as plt\n",
        "import matplotlib.ticker as ticker\n",
        "\n",
        "# General import\n",
        "import numpy as np\n",
        "\n",
        "device = torch.device(\"cuda:0\" if torch.cuda.is_available() else \"cpu\")\n",
        "device"
      ]
    },
    {
      "cell_type": "code",
      "source": [
        "all_characters = string.printable\n",
        "n_characters = len(all_characters)\n",
        "\n",
        "# Change to Sherlock\n",
        "file = unidecode.unidecode(open('data/cnus.txt').read())\n",
        "file_len = len(file)\n",
        "print('file_len =', file_len)"
      ],
      "metadata": {
        "colab": {
          "base_uri": "https://localhost:8080/"
        },
        "id": "Ex_ynEFcbkhT",
        "outputId": "39ff20cd-2de0-4cbf-b6a4-d3f51d4c0edb"
      },
      "execution_count": null,
      "outputs": [
        {
          "output_type": "stream",
          "name": "stdout",
          "text": [
            "file_len = 3381982\n"
          ]
        }
      ]
    },
    {
      "cell_type": "code",
      "source": [
        "chunk_len = 200\n",
        "\n",
        "def random_chunk():\n",
        "    start_index = random.randint(0, file_len - chunk_len)\n",
        "    end_index = start_index + chunk_len + 1\n",
        "    return file[start_index:end_index]\n",
        "\n",
        "print(random_chunk())"
      ],
      "metadata": {
        "colab": {
          "base_uri": "https://localhost:8080/"
        },
        "id": "LotemR4Cb4wz",
        "outputId": "39192afe-71e9-4013-af50-83af8ce2d130"
      },
      "execution_count": null,
      "outputs": [
        {
          "output_type": "stream",
          "name": "stdout",
          "text": [
            "ow of the existence of an\n",
            "     heir in Canada. In any case he would very soon learn it from his\n",
            "     friend Dr. Mortimer, and he was told by the latter all details about\n",
            "     the arrival of Henry Baske\n"
          ]
        }
      ]
    },
    {
      "cell_type": "code",
      "source": [
        "class RNN(nn.Module):\n",
        "    def __init__(self, input_size, hidden_size, output_size, n_layers=1):\n",
        "        super(RNN, self).__init__()\n",
        "        self.input_size = input_size\n",
        "        self.hidden_size = hidden_size\n",
        "        self.output_size = output_size\n",
        "        self.n_layers = n_layers\n",
        "        \n",
        "        self.encoder = nn.Embedding(input_size, hidden_size)\n",
        "        self.gru = nn.GRU(hidden_size, hidden_size, n_layers)\n",
        "        self.decoder = nn.Linear(hidden_size, output_size)\n",
        "    \n",
        "    def forward(self, input, hidden):\n",
        "        input = self.encoder(input.view(1, -1))\n",
        "        output, hidden = self.gru(input.view(1, 1, -1), hidden)\n",
        "        output = self.decoder(output.view(1, -1))\n",
        "        return output, hidden\n",
        "\n",
        "    def init_hidden(self):\n",
        "        return Variable(torch.zeros(self.n_layers, 1, self.hidden_size))"
      ],
      "metadata": {
        "id": "FBmxnlLgb5KF"
      },
      "execution_count": null,
      "outputs": []
    },
    {
      "cell_type": "code",
      "source": [
        "# Turn string into list of longs\n",
        "def char_tensor(string):\n",
        "    tensor = torch.zeros(len(string)).long()\n",
        "    for c in range(len(string)):\n",
        "        tensor[c] = all_characters.index(string[c])\n",
        "    return Variable(tensor)\n",
        "\n",
        "print(char_tensor('abcDEF'))"
      ],
      "metadata": {
        "colab": {
          "base_uri": "https://localhost:8080/"
        },
        "id": "phdrDTYCcDqF",
        "outputId": "9fc1ae3b-ecb0-4975-cf39-1ccfbf34cc49"
      },
      "execution_count": null,
      "outputs": [
        {
          "output_type": "stream",
          "name": "stdout",
          "text": [
            "tensor([10, 11, 12, 39, 40, 41])\n"
          ]
        }
      ]
    },
    {
      "cell_type": "code",
      "source": [
        "def random_training_set():    \n",
        "    chunk = random_chunk()\n",
        "    #print(chunk)\n",
        "    inp = char_tensor(chunk[:-1])\n",
        "    target = char_tensor(chunk[1:])\n",
        "    return inp, target"
      ],
      "metadata": {
        "id": "irb65s4OcFd1"
      },
      "execution_count": null,
      "outputs": []
    },
    {
      "cell_type": "code",
      "source": [
        "random_training_set()"
      ],
      "metadata": {
        "colab": {
          "base_uri": "https://localhost:8080/"
        },
        "id": "ojABvyg1cG4E",
        "outputId": "f26fbd60-edfc-46d0-a477-0899a13330f3"
      },
      "execution_count": null,
      "outputs": [
        {
          "output_type": "execute_result",
          "data": {
            "text/plain": [
              "(tensor([18, 29, 94, 18, 28, 94, 13, 30, 14, 94, 29, 24, 94, 29, 17, 14, 94, 15,\n",
              "         10, 12, 29, 96, 94, 94, 94, 94, 94, 29, 17, 10, 29, 94, 44, 94, 17, 10,\n",
              "         31, 14, 94, 23, 14, 31, 14, 27, 94, 32, 10, 28, 29, 14, 13, 94, 22, 24,\n",
              "         23, 14, 34, 73, 94, 10, 23, 13, 94, 44, 94, 13, 24, 94, 23, 24, 29, 94,\n",
              "         25, 27, 24, 25, 24, 28, 14, 94, 29, 24, 94, 11, 14, 16, 18, 23, 94, 29,\n",
              "         24, 94, 13, 24, 96, 94, 94, 94, 94, 94, 28, 24, 94, 23, 24, 32, 75, 94,\n",
              "         36, 28, 94, 29, 24, 94, 29, 17, 24, 28, 14, 94, 25, 10, 25, 14, 27, 28,\n",
              "         94, 32, 18, 29, 17, 94, 32, 17, 18, 12, 17, 94, 34, 24, 30, 94, 10, 27,\n",
              "         14, 94, 22, 10, 20, 18, 23, 16, 94, 28, 24, 94, 15, 27, 14, 14, 73, 94,\n",
              "         44, 94, 22, 10, 34, 96, 94, 94, 94, 94, 94, 29, 14, 21, 21, 94, 34, 24,\n",
              "         30, 94, 29, 17, 10, 29, 94, 18, 23, 94, 12, 10, 28, 14, 94, 29, 17, 14,\n",
              "         27, 14]),\n",
              " tensor([29, 94, 18, 28, 94, 13, 30, 14, 94, 29, 24, 94, 29, 17, 14, 94, 15, 10,\n",
              "         12, 29, 96, 94, 94, 94, 94, 94, 29, 17, 10, 29, 94, 44, 94, 17, 10, 31,\n",
              "         14, 94, 23, 14, 31, 14, 27, 94, 32, 10, 28, 29, 14, 13, 94, 22, 24, 23,\n",
              "         14, 34, 73, 94, 10, 23, 13, 94, 44, 94, 13, 24, 94, 23, 24, 29, 94, 25,\n",
              "         27, 24, 25, 24, 28, 14, 94, 29, 24, 94, 11, 14, 16, 18, 23, 94, 29, 24,\n",
              "         94, 13, 24, 96, 94, 94, 94, 94, 94, 28, 24, 94, 23, 24, 32, 75, 94, 36,\n",
              "         28, 94, 29, 24, 94, 29, 17, 24, 28, 14, 94, 25, 10, 25, 14, 27, 28, 94,\n",
              "         32, 18, 29, 17, 94, 32, 17, 18, 12, 17, 94, 34, 24, 30, 94, 10, 27, 14,\n",
              "         94, 22, 10, 20, 18, 23, 16, 94, 28, 24, 94, 15, 27, 14, 14, 73, 94, 44,\n",
              "         94, 22, 10, 34, 96, 94, 94, 94, 94, 94, 29, 14, 21, 21, 94, 34, 24, 30,\n",
              "         94, 29, 17, 10, 29, 94, 18, 23, 94, 12, 10, 28, 14, 94, 29, 17, 14, 27,\n",
              "         14, 94]))"
            ]
          },
          "metadata": {},
          "execution_count": 23
        }
      ]
    },
    {
      "cell_type": "code",
      "source": [
        "def evaluate(prime_str='A', predict_len=100, temperature=0.8):\n",
        "    hidden = decoder.init_hidden()\n",
        "    prime_input = char_tensor(prime_str)\n",
        "    predicted = prime_str\n",
        "\n",
        "    # Use priming string to \"build up\" hidden state\n",
        "    for p in range(len(prime_str) - 1):\n",
        "        _, hidden = decoder(prime_input[p], hidden)\n",
        "    inp = prime_input[-1]\n",
        "    \n",
        "    for p in range(predict_len):\n",
        "        output, hidden = decoder(inp, hidden)\n",
        "        \n",
        "        # Sample from the network as a multinomial distribution\n",
        "        output_dist = output.data.view(-1).div(temperature).exp()\n",
        "        top_i = torch.multinomial(output_dist, 1)[0]\n",
        "        \n",
        "        # Add predicted character to string and use as next input\n",
        "        predicted_char = all_characters[top_i]\n",
        "        predicted += predicted_char\n",
        "        inp = char_tensor(predicted_char)\n",
        "\n",
        "    return predicted"
      ],
      "metadata": {
        "id": "87poO2L_cJtV"
      },
      "execution_count": null,
      "outputs": []
    },
    {
      "cell_type": "code",
      "source": [
        "def time_since(since):\n",
        "    s = time.time() - since\n",
        "    m = math.floor(s / 60)\n",
        "    s -= m * 60\n",
        "    return '%dm %ds' % (m, s)"
      ],
      "metadata": {
        "id": "q6w6Pwy_cL9u"
      },
      "execution_count": null,
      "outputs": []
    },
    {
      "cell_type": "code",
      "source": [
        "def train(inp, target):\n",
        "    #print(inp)\n",
        "    #print('\\n Target:')\n",
        "    #print(target)\n",
        "    hidden = decoder.init_hidden()\n",
        "    decoder.zero_grad()\n",
        "    loss = 0\n",
        "\n",
        "    for c in range(chunk_len):\n",
        "        output, hidden = decoder(inp[c], hidden)\n",
        "        #print(f'output:{output}')\n",
        "        #print(f'output:{output.shape}')\n",
        "        #print(f'target:{target[c]}')\n",
        "        #print(f'target:{target[c].shape}')\n",
        "        loss += criterion(output, torch.tensor([target[c]]))\n",
        "\n",
        "    loss.backward()\n",
        "    decoder_optimizer.step()\n",
        "    \n",
        "    #print(loss)\n",
        "    #print(chunk_len)\n",
        "    #print(loss.data)\n",
        "    #print(loss.item())\n",
        "    return loss.item() / chunk_len"
      ],
      "metadata": {
        "id": "n4UFFkCPcNPH"
      },
      "execution_count": null,
      "outputs": []
    },
    {
      "cell_type": "code",
      "source": [
        "# plot and summary\n",
        "print_every = 100\n",
        "plot_every = 10"
      ],
      "metadata": {
        "id": "HKACE6KtqQ3Y"
      },
      "execution_count": null,
      "outputs": []
    },
    {
      "cell_type": "markdown",
      "source": [
        "**Original hyperparameters**:\n",
        "- `n_epochs` = 2000\n",
        "- `hidden_size` = 100\n",
        "- `n_layers` = 1\n",
        "- `lr` = 0.005\n",
        "- `temperature` = 0.8"
      ],
      "metadata": {
        "id": "QFIRICdbm3-K"
      }
    },
    {
      "cell_type": "code",
      "source": [
        "# hyperparameters\n",
        "n_epochs = 2000\n",
        "hidden_size = 100\n",
        "n_layers = 1\n",
        "lr = 0.005\n",
        "temperature = 0.8"
      ],
      "metadata": {
        "id": "59qMYH3imfvM"
      },
      "execution_count": null,
      "outputs": []
    },
    {
      "cell_type": "code",
      "source": [
        "decoder = RNN(n_characters, hidden_size, n_characters, n_layers)\n",
        "decoder_optimizer = torch.optim.Adam(decoder.parameters(), lr=lr)\n",
        "criterion = nn.CrossEntropyLoss()\n",
        "\n",
        "start = time.time()\n",
        "all_losses = []\n",
        "loss_avg = 0\n",
        "\n",
        "for epoch in range(1, n_epochs + 1):\n",
        "    loss = train(*random_training_set())       \n",
        "    loss_avg += loss\n",
        "\n",
        "    if epoch % print_every == 0:\n",
        "        print('[%s (%d %d%%) %.4f]' % (time_since(start), epoch, epoch / n_epochs * 100, loss))\n",
        "        print(evaluate('Wh', 250), '\\n')\n",
        "\n",
        "    if epoch % plot_every == 0:\n",
        "        all_losses.append(loss_avg / plot_every)\n",
        "        loss_avg = 0"
      ],
      "metadata": {
        "colab": {
          "base_uri": "https://localhost:8080/"
        },
        "id": "y0UR94bapGuW",
        "outputId": "12ab636e-1eb4-491e-dc59-a8415d71a065"
      },
      "execution_count": null,
      "outputs": [
        {
          "output_type": "stream",
          "name": "stdout",
          "text": [
            "[0m 12s (100 5%) 2.1818]\n",
            "Whis saind I foo cned cof ser hith daut theiont, an fer the  in ed cose wernd shis  soort toe oug, \"Ad siu there of thi? Wou ny ongif thin ae\n",
            "        the be sonof frong he so esethaned here owes, sut tou wot mere fo us as nond sin I sast ho souming m,e \n",
            "\n",
            "[0m 24s (200 10%) 1.9239]\n",
            "Wha\n",
            "     had a thas the hat fromer lares ist and she the the the Mran tand he legte.\"\n",
            "\n",
            "\n",
            "\n",
            "      \"I itsow the wach of wand thiin noid hee. Are wass theblander, efred onstat he my staught the ores of the\n",
            "     the the owhe remett the on buid the ars\n",
            "     t \n",
            "\n",
            "[0m 40s (300 15%) 2.0290]\n",
            "Whitle of thokel, cotetarkite wace of itus it a sere your surtin fur and your ree to stetered be marse wainto leviled a come and lim.\n",
            "\n",
            "      \"Wich kper yurall bee ill cak, and and and is carkn in at has hewher the yourk for and cort mis af the moned it \n",
            "\n",
            "[0m 54s (400 20%) 1.6954]\n",
            "What you way very losed it is phes a grot entand bus may was\n",
            "      welos\n",
            "     seent ex shale, he has pach he one was a dome a leary, and in his not a lowe, a noded the to is at earn exity is and caofet id. Holed if he so waais seed od ef hefs row he wu \n",
            "\n",
            "[1m 7s (500 25%) 1.6805]\n",
            "Wherly were expast swas mons, My mank the the pere fronme fo roume is got the this sand two was evered, there ras. Prest wale four, and it ear it in reele,\n",
            "      the seened are swere that is not to  but in that some to in we crion une we\n",
            "     sand, who \n",
            "\n",
            "[1m 19s (600 30%) 1.7942]\n",
            "Which some our of I had and which out ween his chingen he packled can and erble for mank haked to fing the\n",
            "     the\n",
            "     ato not toweld are down dill hem to the and of\n",
            "     which he the atked foln a cass we down that od preas\n",
            "      his man anes there,  \n",
            "\n",
            "[1m 33s (700 35%) 1.8709]\n",
            "Whery agains rounred. The dongil; was not himes thow deent it at a fevered.\"\n",
            "\n",
            "     \"Hole to repetther, and house we\n",
            "     taple of the misting to was to selly, to all are, wholifed a day. I doing a starte.\n",
            "\n",
            "     \"It the appeer, seled the bety comes were \n",
            "\n",
            "[1m 46s (800 40%) 1.7713]\n",
            "Which he rigent erver his have he and one from that the shach, of the have to ceation orent do conge in have whittt of a lept and the could all the chould his impropmes with had the pastly hrorver the vill eadent tain head bote and imant of which cocur \n",
            "\n",
            "[1m 58s (900 45%) 1.7766]\n",
            "WhI foot the was to ston in comman taty to sill a howps of the log the comprisitour shock him posibe of the wold enter back sock to be on a spayes.\n",
            "\n",
            "      \"You from pared to to fel as I pockely is upon before were straving he sill mind was but ettertur \n",
            "\n",
            "[2m 10s (1000 50%) 1.4485]\n",
            "Wht worse one one out\n",
            "     on it.\"\n",
            "\n",
            "     \"Jacker we card the told and the one with he hear and the mend she you med the lingell there wet which sail for has the pect the bet.\"\n",
            "\n",
            "     \"I acte condiner bus  was to you of the deare.\n",
            "\n",
            "     \"Oh, an I day as  \n",
            "\n",
            "[2m 23s (1100 55%) 1.6161]\n",
            "Whictly and\n",
            "     reager blaid the comper any use.\"\n",
            "\n",
            "     \"'I this life pusked my lask me how cand twere\n",
            "     imposice of that he keat, I will the very hil\n",
            "     no this-grid to tto twas as of woutcolves not thotha\n",
            "     rood any of should for to the said \n",
            "\n",
            "[2m 35s (1200 60%) 1.7507]\n",
            "Whice that in inson, he joover of the purned that he thround the spelationacter, and the ime inder in to his the\n",
            "     wether be wern he which kent the stering Last were hour heard the bleat the one do sefther. On turn in were our\n",
            "      have were with t \n",
            "\n",
            "[2m 48s (1300 65%) 1.8748]\n",
            "What in le stamied the\n",
            "     think mang of alf a some for sme the courles. \"I'\n",
            "     \"Your of the anch to the fear Mry.\n",
            "\n",
            "     \"I gation cenge was sation to but mare the mily was we fille face at a strate fissing minro stan a gristanally, at in he look to \n",
            "\n",
            "[3m 0s (1400 70%) 1.5866]\n",
            "Whten the givaned of his ceathin,\n",
            "     was some mase into the so hen me. ye so se'ss. I day's ention, at gandan, and here in how his poarse. Then,; doundirst stay do an me was a streal us in were which came he straning at his all that grounder surple\n",
            "  \n",
            "\n",
            "[3m 13s (1500 75%) 1.6286]\n",
            "Whes-pame to been and and exter, Enexagh in be hound of the hall. I had mabe, was been at the mondoory as the mode we is an is Barkered we houme le all\n",
            "     smardiration all the runder all\n",
            "      mime?\"\n",
            "\n",
            "     \"Cour a matwere of eneever he life, and a we \n",
            "\n",
            "[3m 25s (1600 80%) 1.8628]\n",
            "Whe\n",
            "     seew all then in the boy, and I were clack ans in in the communtine to\n",
            "     commion shocul in that it seathes him.\"\n",
            "\n",
            "\n",
            "     \"How a mungare vaged the accal that the for hink ansfors\n",
            "     his said he saytilely. I could from in from commered of he \n",
            "\n",
            "[3m 38s (1700 85%) 1.7063]\n",
            "Whan drates, It than to of the lager\n",
            "     of the ingoory as I dayomes ene which I sent.\"\n",
            "\n",
            "     \"A found that you I and that enen to my I of a fressilebe some, on he, that hand down the or the vigns to dered, and a that he of of The\n",
            "     grithing tak on \n",
            "\n",
            "[3m 50s (1800 90%) 1.4469]\n",
            "When expriay fack of hwen at fricaged the mily are mored toment on her dind not's pright of\n",
            "     I am him. Holmes.\n",
            "\n",
            "      \"Whly the impried to sucked the dong will door. I have drive\n",
            "     engered the expled,\n",
            "     then out my farr had squse there. There \n",
            "\n",
            "[4m 2s (1900 95%) 1.6635]\n",
            "When that thonsiom toon with up and when to in.\n",
            "\n",
            "\n",
            "     \"We bly with bright of the moged and days two but him nas was with hanked out was\n",
            "     that in a was to loong and we will dare four a dressedrame har stracegen to her would dound bitfectionstion, I \n",
            "\n",
            "[4m 15s (2000 100%) 1.5690]\n",
            "When his towl face which has bys we was thide it?\"\n",
            "\n",
            "     \"There my lookered, sharl Serlact the experspy ocrelushinalon us this trange which a coulled we used for\n",
            "      from in non accust victle a face tach as wetter said couch as a face at is accare wo \n",
            "\n"
          ]
        }
      ]
    },
    {
      "cell_type": "code",
      "source": [
        "%matplotlib inline\n",
        "\n",
        "plt.figure()\n",
        "plt.plot(all_losses)\n",
        "plt.title('Training Loss Curve of Vanilla RNN');"
      ],
      "metadata": {
        "colab": {
          "base_uri": "https://localhost:8080/",
          "height": 281
        },
        "id": "Yh4Nrg_AcQPl",
        "outputId": "eb9fd0c7-8821-4e0c-ebb7-d70c5511dd4b"
      },
      "execution_count": null,
      "outputs": [
        {
          "output_type": "display_data",
          "data": {
            "text/plain": [
              "<Figure size 432x288 with 1 Axes>"
            ],
            "image/png": "[encoded data removed]"
          },
          "metadata": {
            "needs_background": "light"
          }
        }
      ]
    },
    {
      "cell_type": "code",
      "source": [
        "all_losses[-1]"
      ],
      "metadata": {
        "colab": {
          "base_uri": "https://localhost:8080/"
        },
        "id": "0k1EpedWvag0",
        "outputId": "f44e2eed-3ccb-4cd3-84ec-ff729582c290"
      },
      "execution_count": null,
      "outputs": [
        {
          "output_type": "execute_result",
          "data": {
            "text/plain": [
              "1.592977966308594"
            ]
          },
          "metadata": {},
          "execution_count": 61
        }
      ]
    },
    {
      "cell_type": "markdown",
      "source": [
        "**Iteration 1** \n",
        "\n",
        "**Changed hyperparameters:**\n",
        "- `n_epochs` = 2000\n",
        "- `hidden_size` = 100\n",
        "- **`n_layers` = 3**\n",
        "- **`lr` = 0.001**\n",
        "- `temperature` = 0.8"
      ],
      "metadata": {
        "id": "4e5iqGN4nZ2h"
      }
    },
    {
      "cell_type": "code",
      "source": [
        "# hyperparameters\n",
        "n_epochs = 2000\n",
        "hidden_size = 100\n",
        "n_layers = 3\n",
        "lr = 0.001\n",
        "temperature = 0.8"
      ],
      "metadata": {
        "id": "M9Kterihm3YZ"
      },
      "execution_count": null,
      "outputs": []
    },
    {
      "cell_type": "code",
      "source": [
        "decoder = RNN(n_characters, hidden_size, n_characters, n_layers)\n",
        "decoder_optimizer = torch.optim.Adam(decoder.parameters(), lr=lr)\n",
        "criterion = nn.CrossEntropyLoss()\n",
        "\n",
        "start = time.time()\n",
        "all_losses_it_1 = []\n",
        "loss_avg = 0\n",
        "\n",
        "for epoch in range(1, n_epochs + 1):\n",
        "    loss = train(*random_training_set())       \n",
        "    loss_avg += loss\n",
        "\n",
        "    if epoch % print_every == 0:\n",
        "        print('[%s (%d %d%%) %.4f]' % (time_since(start), epoch, epoch / n_epochs * 100, loss))\n",
        "        print(evaluate('Wh', 250), '\\n')\n",
        "\n",
        "    if epoch % plot_every == 0:\n",
        "        all_losses_it_1.append(loss_avg / plot_every)\n",
        "        loss_avg = 0"
      ],
      "metadata": {
        "colab": {
          "base_uri": "https://localhost:8080/"
        },
        "id": "_57GPe3kcS5e",
        "outputId": "487ed779-629e-4932-a434-b3eb2c4e5fad"
      },
      "execution_count": null,
      "outputs": [
        {
          "output_type": "stream",
          "name": "stdout",
          "text": [
            "[0m 26s (100 5%) 2.9846]\n",
            "Wh_ e e, thhfh   nal nkt  duum  on hg ooue afeia seao a  r We s et  h i rdtrlrhaao   m  iace  iewa ba\n",
            " e\n",
            " e. t\n",
            " paa  rl      oee sah fgd,cyidadd deipo  ce R rb ctosyn iv  . a a r c   omphsatmet   ahaTefbe ,c  nrlnc\n",
            " h  i    ilre maxg nohiiir wao ii ,,n \n",
            "\n",
            "[0m 53s (200 10%) 2.6053]\n",
            "Whey sihe the  hh-e lton bitee alh rasir\n",
            "  ddis seouni pcites oaicly %ontir, to\" age mi\n",
            "e    afe \n",
            "      r\n",
            "         abe-the tkat tethi rdemodot sendefan\n",
            "      o ching oge dat detos regat maf lout neslars'l\n",
            "       denthe an,an.ly net ut uar he esewafror, \n",
            "\n",
            "[1m 19s (300 15%) 2.2645]\n",
            "Wh|\n",
            "     mround to \"feth. thois sos in mat bhe warovanthe t\"loe hre wan oce  the hash?. loages the omind aipe ra che hanceold iH,\n",
            "     thas. iE\n",
            "     the Rind boI mouse  the to shamith nof and thes anen sor akol\" then\n",
            "     enaddit isod aged\n",
            "      nouril \n",
            "\n",
            "[1m 49s (400 20%) 2.2665]\n",
            "Whing sroftted, fou\" hang o't a uirof a lare pratwe.\n",
            "\n",
            "\n",
            "     the he cateel, 'I hat susiery we Yand arsttinnen the face wisy who le of couren.\n",
            "\n",
            "\n",
            "     leart thac\n",
            "     thera, wounceir fat srenellicisorenneret th;ron, a arrave teuslow, onher? wath of cle!\n",
            "  \n",
            "\n",
            "[2m 18s (500 25%) 1.9539]\n",
            "When yolconsiT and lill hass nomariucing, Heren\n",
            "      to of cout as reen to a latere winder hand ove whan prater anto to ty for intan ane the in so theis sein, sold adeverle astelced yherink whek perere, base in hecor sastecte it comaveeacterd whiytind \n",
            "\n",
            "[2m 44s (600 30%) 1.9091]\n",
            "Whae the fare he\n",
            "     we soir bere hagureds beul the the calter for the andand and a here ese, of as he of of the und the the course of of when had the cul1ul he ancound has fawey lemibapen the could id fith he you into sound whas he caalded foring the \n",
            "\n",
            "[3m 12s (700 35%) 2.0028]\n",
            "Whed to ging wad is lian.\n",
            "\n",
            "     \"us is it stet bewouce tinke wes the wouge dind no mave so of the sore, serted a condet itil the mitt ithan in leal the dase me you ouven he has of later we inty you so ooxs on was her hid the to he drouon shin mivet and \n",
            "\n",
            "[3m 41s (800 40%) 2.1362]\n",
            "Wh lanting, and wourd west, and out and the salled was was tethed can. \"Must\n",
            "     wat thut\n",
            "     domed where apier; and shand the tonsy that fon indioning samn a menrom theer, were here his the there gubled the to the rirsarces folet your thas of the in \n",
            "\n",
            "[4m 9s (900 45%) 1.7838]\n",
            "Whis of the mare in sand a and nost the for the pust retcornd with fo et and teund the his hans this has is fils, bracky unding the of\n",
            "     and il best bean! I mager. Hy rased laded on?\"\n",
            "\n",
            "     \"It the of to gest man the was mass.\"\n",
            "\n",
            "     He einss the ar \n",
            "\n",
            "[4m 36s (1000 50%) 1.7266]\n",
            "Where be it ithing ext\n",
            "     it bame that the was musforr, and miding the sat of tuve in of house come with have swandent, Ttime a some our a dor a with is the quint wanghon, and that is masting of jot this should the is ely that to had hat all mere com \n",
            "\n",
            "[5m 4s (1100 55%) 1.6967]\n",
            "Whan the case pave on hers rung. On,\"  Nefvely stried beforannon for the a stollor him to to mention then and into eron sould were over the of surcon the beam rear the entan efuing ool so stite nother these to teol that you. A'I sil to meres. I sone be \n",
            "\n",
            "[5m 31s (1200 60%) 1.7620]\n",
            "Where the mans of stural to his sindally. Ml of the cwunt lape. That so crist. He it boissike had you nolus all being doratiisuring in\n",
            "     I thowutsly it cut a sitry cgorter. The sirt the of the contony then at from I Of the but Beay usher,ing that an \n",
            "\n",
            "[5m 57s (1300 65%) 1.7138]\n",
            "Where miod. \"It the of nimal now me the gace of the laan there to deers, as moing whe to the couse sox bent light was the been the sould which Day at in can sacged to sprestath and gout of this man dight, as that which he an the sake lablliody. \"Years, \n",
            "\n",
            "[6m 23s (1400 70%) 1.6181]\n",
            "Where off one arrock and man the dowen the stact, but a can fon gour this the more,\" seed unthe fore inded the for the beat ore alp\n",
            "     aron of was goutiage was concested poleav on resed this rether of of a dindne. I and oul is of that was exmincelas. \n",
            "\n",
            "[6m 49s (1500 75%) 1.7080]\n",
            "Wher for a your mroner, the lanliled that the hersurtally in him off she comminve the motty she some caid than on there posswer prome of the reat a dound there, the with and was ound to\n",
            "     where to gecter, that yeen daluth here and the serpess, but i \n",
            "\n",
            "[7m 15s (1600 80%) 1.7629]\n",
            "Where decure the pronsuers, and wa do coulder, an your on the amard,\" save to from she gust frisce it of to hertold of I him out wiestain over\n",
            "     I hought him head is the stard. I the prise of suttished to minaoce had sees of pring have windours and  \n",
            "\n",
            "[7m 42s (1700 85%) 1.6113]\n",
            "What to the hooys sore a rey, and the ropented of the betull. The\n",
            "     game that when treage said which Pearer oover, ald Spemell grough one which which have reast in orforters that\n",
            "     will\n",
            "     atting whing, ligters of has the him night as of expepr \n",
            "\n",
            "[8m 8s (1800 90%) 1.5430]\n",
            "Whereself wind neyes. He-that when the his ressing with fake a she hay jeined he dangly were mear wnough our in\n",
            "     your fascoung, and tyer they, and own a sush uncerenming\n",
            "     have abagband to at of a the Gapiricon\n",
            "     ancioned as lid there a\n",
            "      \n",
            "\n",
            "[8m 34s (1900 95%) 1.6619]\n",
            "When, and and nake whemhechow the praderer sime of the said him bet aplfreatike remappes fhorted\n",
            "     efpeased that the\n",
            "     was it'll myself that as the grigce of is great detperililly be stigt there man the mind mut us the\n",
            "     cannot pated the giddi \n",
            "\n",
            "[9m 0s (2000 100%) 1.6468]\n",
            "Where to the notblut furel my should, when the dearom and the fain syrustleet.\n",
            "\n",
            "     \"Which crise hy midds have disy his some. The fertion diver my the that our the questioned amred that the cornescasent have my wist not\n",
            "     the Mader with reshest of  \n",
            "\n"
          ]
        }
      ]
    },
    {
      "cell_type": "code",
      "source": [
        "%matplotlib inline\n",
        "\n",
        "plt.figure()\n",
        "plt.plot(all_losses_it_1)\n",
        "plt.title('Training Loss Curve of RNN Iteration 1');"
      ],
      "metadata": {
        "colab": {
          "base_uri": "https://localhost:8080/",
          "height": 281
        },
        "id": "1K2fGjvWqd5A",
        "outputId": "c1c4732e-0ab3-4f03-cf24-3a8abe622715"
      },
      "execution_count": null,
      "outputs": [
        {
          "output_type": "display_data",
          "data": {
            "text/plain": [
              "<Figure size 432x288 with 1 Axes>"
            ],
            "image/png": "[encoded data removed]"
          },
          "metadata": {
            "needs_background": "light"
          }
        }
      ]
    },
    {
      "cell_type": "code",
      "source": [
        "all_losses_it_1[-1]"
      ],
      "metadata": {
        "colab": {
          "base_uri": "https://localhost:8080/"
        },
        "id": "t8SRIWBpuwLb",
        "outputId": "db408d1a-6c26-4102-b60a-0a15d98c7b08"
      },
      "execution_count": null,
      "outputs": [
        {
          "output_type": "execute_result",
          "data": {
            "text/plain": [
              "1.6461668701171877"
            ]
          },
          "metadata": {},
          "execution_count": 62
        }
      ]
    },
    {
      "cell_type": "markdown",
      "source": [
        "**Iteration 2**\n",
        "\n",
        "**Changed hyperparameters:**\n",
        "- **`n_epochs` = 4000**\n",
        "- `hidden_size` = 100\n",
        "- **`n_layers` = 3**\n",
        "- **`lr` = 0.001**\n",
        "- `temperature` = 0.8"
      ],
      "metadata": {
        "id": "bpgNzNE0qsyh"
      }
    },
    {
      "cell_type": "code",
      "source": [
        "# hyperparameters\n",
        "n_epochs = 4000\n",
        "hidden_size = 100\n",
        "n_layers = 3\n",
        "lr = 0.001\n",
        "temperature = 0.8"
      ],
      "metadata": {
        "id": "dd0fofGHq-4x"
      },
      "execution_count": null,
      "outputs": []
    },
    {
      "cell_type": "code",
      "source": [
        "decoder = RNN(n_characters, hidden_size, n_characters, n_layers)\n",
        "decoder_optimizer = torch.optim.Adam(decoder.parameters(), lr=lr)\n",
        "criterion = nn.CrossEntropyLoss()\n",
        "\n",
        "start = time.time()\n",
        "all_losses_it_2 = []\n",
        "loss_avg = 0\n",
        "\n",
        "for epoch in range(1, n_epochs + 1):\n",
        "    loss = train(*random_training_set())       \n",
        "    loss_avg += loss\n",
        "\n",
        "    if epoch % print_every == 0:\n",
        "        print('[%s (%d %d%%) %.4f]' % (time_since(start), epoch, epoch / n_epochs * 100, loss))\n",
        "        print(evaluate('Wh', 250), '\\n')\n",
        "\n",
        "    if epoch % plot_every == 0:\n",
        "        all_losses_it_2.append(loss_avg / plot_every)\n",
        "        loss_avg = 0"
      ],
      "metadata": {
        "colab": {
          "base_uri": "https://localhost:8080/"
        },
        "outputId": "7b83def4-8c08-4af5-9c55-f55645ac161d",
        "id": "re-Q3T1xq-4y"
      },
      "execution_count": null,
      "outputs": [
        {
          "output_type": "stream",
          "name": "stdout",
          "text": [
            "[0m 25s (100 2%) 2.7669]\n",
            "Whos onllarwnoo  h a.  teohhan ort'hgd cnt  a rolt ae yu sllceeassied pe. toy tar ee h dlsnui lwaoo e  l geme iorspe bin reae\" e nntroscare weso tre   wtttt tt, pn eend ao trto Ibt e l pne hti eoeuhta sd ay.t,  eeHn onsot go elt oiaagMioo\n",
            "w   ee rae rt \n",
            "\n",
            "[0m 51s (200 5%) 2.5091]\n",
            "Whh ane\n",
            "     sty nind oHe hae ohilt scttis otrghe te esae ootralnnad aetae the eatgaor  ehi aontethivaWae ahtrHe ewthhh sotghen,d mdisthca e. e\"d Yenthk. anw os ae iot ain rats ait edl. aw ey. \"fesdhwit nrmrneae hmhh. apcns eid s ea aasufadkteeyd herir \n",
            "\n",
            "[1m 16s (300 7%) 2.1965]\n",
            "Whering cifeTeetlteaon uit as the teet aoen un voeslinur pensre thhiceeolet unco tureed ant hy snessn olrhey gan selt coin yhe I\n",
            "     reled,e wif yo, sauls ok kethiug thh me mevely I dat ars ceites yered rang wotelis sy3etins thor akes tin uim thac\" wa \n",
            "\n",
            "[1m 42s (400 10%) 2.3157]\n",
            "Wheet os yoce miur ewes ocered the I the cathet ut whe anln a, hoven the the a lild. I bcat, a I ciinnan I thu.\"\n",
            "     diry horder the whiat thoupet yit a unvell thas pamins, sparpan. \"he whin und cheld a tale thoud lilt a the ing. sorle in'n doon chlad \n",
            "\n",
            "[2m 7s (500 12%) 2.1283]\n",
            "Whise\n",
            "     site ufghe he'tht. I hat basn. \n",
            "     heon sower it that vereydetroon therate whoughrath and woon here and heade siny tas to breavereuls one the Seurse was been slave he id, simeretatere ass the and, worse we ame, wothe derase hind beresant o \n",
            "\n",
            "[2m 33s (600 15%) 2.1321]\n",
            "Wher sefa, mat, hadw, that bom Jut has not and sac deis and was at to lather the hit one this\n",
            "     ciyves dowd raluld zid vea. Were and apred with as of of ore\n",
            "     an the hertije wiviillread thert bith of so?\n",
            "\n",
            "     \"To sheras ly creeld ou ureke round  \n",
            "\n",
            "[2m 58s (700 17%) 2.4702]\n",
            "Where on the polmeorsed, and hat roaed whouu stroo, ere a sthove seasbt and what as\n",
            "     apped.\"\n",
            "\n",
            "      Agiclet are\n",
            "     is and tu it havh the now.\"\n",
            "\n",
            "     \"Whid, pover to thang heas I\n",
            "     this\n",
            "     to and hat geled-oued sind vois, whim of it of the to \n",
            "\n",
            "[3m 23s (800 20%) 1.8581]\n",
            "Whing of sished it. Natte ucuing wis fpape a mas ead.\"\n",
            "\n",
            "     \"Yut the for the dord wolgel, the lition, noon a doone friars of which wiming fo,'\n",
            "     way as that to hould has wiunmed fremal, ding wa'd dowsul to man pome mrilles truser. But whene earc, t \n",
            "\n",
            "[3m 48s (900 22%) 1.6734]\n",
            "Whery froom I at of in had vonicer ank not that an sas\n",
            "     lolf the domshord. Thein\n",
            "     ent. \"The bowme the and listas of that the the wat be hound as think was when selans had worgestantchant.\"\n",
            "\n",
            "     \"If thet in list preston the\n",
            "     shall hat and w \n",
            "\n",
            "[4m 14s (1000 25%) 1.8783]\n",
            "Where would these all thell thesighes you froster and whout that and thid here man to me a can in doagel the to you her sain and from erforiing menturres and that premferice gut shaver I had\n",
            "     to are and sting there the beell apering tring\n",
            "     oter \n",
            "\n",
            "[4m 39s (1100 27%) 1.7906]\n",
            "Where the prucpegens const and for'\"\n",
            "\n",
            "     \"He in a sey.\"\n",
            "\n",
            "      uw I untren of nust froth on and and the sary could then there abe died the worm hown the barting connt with charde the sasper and an so urch of sull an I shoot there with the gound to me \n",
            "\n",
            "[5m 4s (1200 30%) 1.8449]\n",
            "Wh. \"Carly that as.\"\n",
            "\n",
            "     \"We brough sust of ust would in in Lidle, not the mroms be was she serce the mentlilly we are hard a eencome bruntensse-the sat seesing thet anthe should what whial getcould had speat on thit and me of wy his seever it the cr \n",
            "\n",
            "[5m 30s (1300 32%) 1.8551]\n",
            "Whis ribsure at of seece with; As tgetarles the man high madeed wade cotflice I for thers tifs of as thing and put I herdoom man at of a und, inturn carked I wave\n",
            "     an and seet was we he beand was to be you dince,\" saegly bea, and seapationt faped i \n",
            "\n",
            "[5m 56s (1400 35%) 1.7098]\n",
            "Whing hand, and bich clible a courtle bitt all of one and see. Where the of of me as your hight in that where are where for a cown-ligain obt is may the are the btthat me of when that a could the purtion.\n",
            "\n",
            "     \"I post am and the nothing and for stand  \n",
            "\n",
            "[6m 21s (1500 37%) 1.6499]\n",
            "Whing the ma9 hink for the clail, and and that a\n",
            "     all apending which by sir.\"\n",
            "\n",
            "     \"'Yes, the ream it for a that so man in that and Hurpon aken the\n",
            "     was\n",
            "     for you\n",
            "     wething a pore of that the note that\n",
            "     will, I\n",
            "     were to thick any \n",
            "\n",
            "[6m 46s (1600 40%) 1.7329]\n",
            "Wher it, get was the person hand had got is falrong bvion you passon, where he, which and as a tent with the man are was ewren was nilless is in the vortic semt rail surnion the\n",
            "     nages. Carded to clay on tast-digable of a and frudatay. It of ly abo \n",
            "\n",
            "[7m 12s (1700 42%) 1.4624]\n",
            "Wheres frimise the way the and my my fors my bursile with the made was of poulther was not of for what it was sall-some why he, and lays peiding the vaol of sure been the matson anly. He had his when the crition wain she master him were and dows of whi \n",
            "\n",
            "[7m 37s (1800 45%) 1.7334]\n",
            "When from sear.\n",
            "\n",
            "     \"For let the marroy she back surution of thought that it sirs his red her nempensed\n",
            "     sut not course thementfells notely, I alchseid. In the coumting the for enou been the grought it at a the erust!\"\n",
            "\n",
            "     \"In bey ene prettame, \n",
            "\n",
            "[8m 2s (1900 47%) 1.6359]\n",
            "Whis her adtione by yemervation thought to me had to his had firted expote. I his sigent go hour, whicle, and the were the don, contled had come allive in is has nece. \"I hacks was redouched be littew which a boots-gars. He say gread that you maik. She \n",
            "\n",
            "[8m 27s (2000 50%) 1.6287]\n",
            "Wherer of my house not conpension the hisser to mone I wince was this letter how net after poying bushed ovard my\n",
            "     the mage your, anyting as the comones us\n",
            "     countrated cown. He lestand of Wild the possed fered Mlestides at erver as stand the co \n",
            "\n",
            "[8m 52s (2100 52%) 1.6599]\n",
            "Whis smese of had gation which he\n",
            "     me oher lasper. I was they taver down to\n",
            "     they of the most. \"Fefing Susald if but with at in this but his grace of the joing as I ary.\n",
            "\n",
            "     \"There the pake some enter me insedderny not that they will on expla \n",
            "\n",
            "[9m 17s (2200 55%) 1.7701]\n",
            "Which is some what he that gave a forss, but it, and when hearnass, for eyes monned reself one don tunraded for in Lold, there\n",
            "     was do pertainun in the rolmes whis mail and she are bear to messed\n",
            "     sinse acsed most, as, anted on a beards what yo \n",
            "\n",
            "[9m 42s (2300 57%) 1.6679]\n",
            "Whis wearth tithen we sure of Teloany; and or offectly been again, who had about uvouse forming that I could\n",
            "     pinctioler. The Douse the\n",
            "     necgied that a hemench. I have been now\n",
            "     he had seemers. Holmes as been, and your nare. Holmes all have \n",
            "\n",
            "[10m 7s (2400 60%) 1.7639]\n",
            "Whis one as on appears.  Was before with on there the weind\n",
            "     and have in a plaping at whole shoutted\n",
            "     ling any stroves and her viscaigs with with: every amretter all cheet the part on the him, and I man, and I sage knepcend by a complarent. It  \n",
            "\n",
            "[10m 32s (2500 62%) 1.7730]\n",
            "Whis exome to here she.-\" Sawalleried it my partion,\n",
            " \n",
            "             This mave stillaction to me that the ling the stectting litton our stigunter. It willarthing,\" untrent that a have had a laid. \"Well fere carraed and which Lorle's\n",
            "     flies,  he had  \n",
            "\n",
            "[10m 57s (2600 65%) 1.3993]\n",
            "WhoN I would the ballow which led to my coalt tof consbeard of hers-way with a wondife--he long\n",
            "     here was to see he\n",
            "     conventatiPer others at the laidon.  I had renow to inst to nettle a\n",
            "     dook divelid.\"\n",
            "\n",
            "\n",
            "     \"Lay whom the hand that the dro \n",
            "\n",
            "[11m 22s (2700 67%) 1.4085]\n",
            "Whowe tite of end and my mach his maries in a clunting at the like her same\n",
            "     pare. What Mrs. I recause is fall to me dell her in a heavoping from and that\n",
            "     Grace she paisilition of he long however that\n",
            "     exaster loge him the crange and sever \n",
            "\n",
            "[11m 47s (2800 70%) 1.6172]\n",
            "What how was your\n",
            "     some been he beath we had not the some promemore the for that he had read of them to shoke having the verick and he should hew, be her he hadse extracite. There was know and the prachess and\n",
            "     of come and posside. I had appero \n",
            "\n",
            "[12m 12s (2900 72%) 1.4553]\n",
            "Whis had can her gentler's\n",
            "     him her of an eltered\n",
            "     I had pursonational to\n",
            "     betor with and the feer. Sure whole she stoke was the house of the worder of our pastio, I find a long to my canyclition and late.\n",
            "\n",
            "     What yat agrathing the bladd \n",
            "\n",
            "[12m 37s (3000 75%) 1.4424]\n",
            "What strusdes. The leappainstrairs, so come having for\n",
            "     the facestion my\n",
            "     chance that us have seem, Sherped. We made feet\n",
            "     in a strader with the learous of the clienty comstorty was the\n",
            "     get and a listrade.\"\n",
            "\n",
            "     \"I hagn,\n",
            "     you trin \n",
            "\n",
            "[13m 2s (3100 77%) 1.7831]\n",
            "Whis will, which Holmes\n",
            "     meny only the vainings and from thell, and Losner and on disprity\n",
            "     and to sually probain onomh out your not posion was aliver, she\n",
            "     as in an ispost a warnant as you said of the hearvidy of the othered to\n",
            "     Dremar \n",
            "\n",
            "[13m 27s (3200 80%) 1.5862]\n",
            "What that be--was for you a\n",
            "     think of that the flang his hear was deather taken of the lopp\n",
            "     ament before that I should be one of myself and little must liden the posity by be things, as I think I dor it sincly devillavone is or'ch be a siderne \n",
            "\n",
            "[13m 53s (3300 82%) 1.3730]\n",
            "What was a did the tort't such pres in the\n",
            "     stuck anything out for within his ever. Nothing to do; then\n",
            "     the remamuter pertages, busied he sumpry and our done\n",
            "     you be heagen?\"\n",
            "\n",
            "     \"Why has from that the copperves. He had\n",
            "     came a took  \n",
            "\n",
            "[14m 18s (3400 85%) 1.3935]\n",
            "When the concicusion.\n",
            "\n",
            "     \"Yes, \"the can the montress!\" say\n",
            "     case for with a\n",
            "     buclaying. Van you am of you fulk, and Holmes now in the from the post which is of for your was\n",
            "     ponemonion.\n",
            "\n",
            "     \"The presertal to letter by there have compar \n",
            "\n",
            "[14m 43s (3500 87%) 1.5155]\n",
            "Whose seeph came of the party that the point a great.\"\n",
            "\n",
            "     \"Not that to bell ince.\n",
            "\n",
            "     \"If which he hagd basce of our\n",
            "     a great it not of may grive the appucdonding. That some noce acting of from the ivood of our can to\n",
            "     for the sawn open of \n",
            "\n",
            "[15m 8s (3600 90%) 1.6027]\n",
            "Who must are in the\n",
            "     rooms,\" said I have not to her was take of the impressaily to stranged\n",
            "     up the spert to see as my losely lit-loganiand to that he who late despection of or held be the modry suppent-napcecter comt of your here who as yeath\n",
            " \n",
            "\n",
            "[15m 32s (3700 92%) 1.4324]\n",
            "When well for this unfilted his\n",
            "     only more of the gall, though that you were alreed unoghing charrem the ancience of\n",
            "     forcented mine. It was not it. Then a smerely.\"\n",
            "\n",
            "     \"You thought he read from some felling that though were faltiyed that th \n",
            "\n",
            "[15m 58s (3800 95%) 1.6179]\n",
            "Who dood something in the rame of the\n",
            "     game on young of the door. The first which had eppose of the\n",
            "     door, and very rocast for the bange from the room in which can of seet contary no the done and greeamt in the sign. 'What\n",
            "     at the intwo he  \n",
            "\n",
            "[16m 24s (3900 97%) 1.7422]\n",
            "Whis kind.\n",
            "     I dound herrial-sat blight of no\n",
            "     inement, and for the tell. You instrand meding for the bwanding it. It were but morang? \n",
            "     I ald yourserting or that you the pats rest of the chance. That I ahnence, and\n",
            "     sut in, the longtnes \n",
            "\n",
            "[16m 49s (4000 100%) 1.6099]\n",
            "Whis nturned made. I have at\n",
            "     me of the trout nercy her that and had seemed the firning a\n",
            "     me a mibch as low is been\n",
            "     changable to amention. The despersation. \"I efcear Gery behind too the very trace which seeme, and had over the curned\n",
            "    \n",
            "\n"
          ]
        }
      ]
    },
    {
      "cell_type": "code",
      "source": [
        "%matplotlib inline\n",
        "\n",
        "plt.figure()\n",
        "plt.plot(all_losses_it_2)\n",
        "plt.title('Training Loss Curve of RNN Iteration 2');"
      ],
      "metadata": {
        "colab": {
          "base_uri": "https://localhost:8080/",
          "height": 281
        },
        "id": "FHQBP6GMq-4y",
        "outputId": "cf49c826-4647-481d-91af-b45bf7006f66"
      },
      "execution_count": null,
      "outputs": [
        {
          "output_type": "display_data",
          "data": {
            "text/plain": [
              "<Figure size 432x288 with 1 Axes>"
            ],
            "image/png": "[encoded data removed]"
          },
          "metadata": {
            "needs_background": "light"
          }
        }
      ]
    },
    {
      "cell_type": "code",
      "source": [
        "all_losses_it_2[-1]"
      ],
      "metadata": {
        "colab": {
          "base_uri": "https://localhost:8080/"
        },
        "id": "1T4J4ejU0nyz",
        "outputId": "23072f2a-c179-401c-eac7-f263c3b0615a"
      },
      "execution_count": null,
      "outputs": [
        {
          "output_type": "execute_result",
          "data": {
            "text/plain": [
              "1.5283541717529294"
            ]
          },
          "metadata": {},
          "execution_count": 74
        }
      ]
    },
    {
      "cell_type": "markdown",
      "source": [
        "**Iteration 3**\n",
        "\n",
        "**Changed hyperparameters:**\n",
        "- **`n_epochs` = 3000**\n",
        "- `hidden_size` = 100\n",
        "- **`n_layers` = 3**\n",
        "- `lr` = 0.005\n",
        "- `temperature` = 0.8"
      ],
      "metadata": {
        "id": "q8F3fkRWtaf-"
      }
    },
    {
      "cell_type": "code",
      "source": [
        "# hyperparameters\n",
        "n_epochs = 3000\n",
        "hidden_size = 100\n",
        "n_layers = 3\n",
        "lr = 0.005\n",
        "temperature = 0.8"
      ],
      "metadata": {
        "id": "Ohmf3qMw0CjM"
      },
      "execution_count": null,
      "outputs": []
    },
    {
      "cell_type": "code",
      "source": [
        "decoder = RNN(n_characters, hidden_size, n_characters, n_layers)\n",
        "decoder_optimizer = torch.optim.Adam(decoder.parameters(), lr=lr)\n",
        "criterion = nn.CrossEntropyLoss()\n",
        "\n",
        "start = time.time()\n",
        "all_losses_it_3 = []\n",
        "loss_avg = 0\n",
        "\n",
        "for epoch in range(1, n_epochs + 1):\n",
        "    loss = train(*random_training_set())       \n",
        "    loss_avg += loss\n",
        "\n",
        "    if epoch % print_every == 0:\n",
        "        print('[%s (%d %d%%) %.4f]' % (time_since(start), epoch, epoch / n_epochs * 100, loss))\n",
        "        print(evaluate('Wh', 250), '\\n')\n",
        "\n",
        "    if epoch % plot_every == 0:\n",
        "        all_losses_it_3.append(loss_avg / plot_every)\n",
        "        loss_avg = 0"
      ],
      "metadata": {
        "colab": {
          "base_uri": "https://localhost:8080/"
        },
        "outputId": "4c761642-41d9-449b-e523-9b8ed9cd4e24",
        "id": "8MiM71Pp0CjN"
      },
      "execution_count": null,
      "outputs": [
        {
          "output_type": "stream",
          "name": "stdout",
          "text": [
            "[0m 26s (100 3%) 2.4396]\n",
            "Whf thole pned ume ired yltoet oep ien be bnn' the aorinscifer.  heiand yhoce wod onad he ltan tt to roed \"\"\" rbt. oure fse wofon cada\" twil ichC. \" oinre\n",
            "    \"lfouse\n",
            "    \" the 'oorerrir\n",
            "    \"I cfet.  inrsee se ichule ohe 3am the nobt eroukse ue mupeun \n",
            "\n",
            "[0m 53s (200 6%) 1.9729]\n",
            "Whe the thy adt has the wed dot ake age that arith oun, gole Had om mat the\n",
            "     mind sobisas, of thit he oabt inesis eos hime on the thery the ge ant the the the the ungset se wed anse tut of turdish agiy oich to tot she lame dfyith wor to e coy hare  \n",
            "\n",
            "[1m 22s (300 10%) 2.0559]\n",
            "Whong ony wout be sas, poing birion wand is cong ant thouk there mas the aming anteng ise.\n",
            "\n",
            "     Wand cecintesdescround salily eother with has and-the move fyyy. Ind and cuwinsds astn to bing woup was fising the morner tols ing yory, he cuing stor ithe \n",
            "\n",
            "[1m 48s (400 13%) 1.8876]\n",
            "Whe denare heint a wour and the light the let to iu his the praneft\n",
            "     he matetare a\n",
            "     a comed Bneart didoe the\n",
            "     sas of on uit shin vathly vere gowed ccousoultalss the there ut the a as ar\n",
            "     what tto heln enty thee a the mordew soughme with \n",
            "\n",
            "[2m 17s (500 16%) 1.8248]\n",
            "Whell in was on anling as anning belown, Habgeling and in ome an of on oint it lape\n",
            "     the my in in was of that in has fererant the in the paiid notlen of the wich af with mull in I oble, larte, wat ave an list qunen ben-Hrevere was the\n",
            "     besing t \n",
            "\n",
            "[2m 46s (600 20%) 1.7411]\n",
            "Whelre me the but me it never his dive nnow to enquast a murenter the come reen enter be the be. she he krester, I his mons, be a and have the\n",
            "     reabut of the cantet the repamenter mandre adst the\n",
            "     he said the ip the mokehes fired that as besthe \n",
            "\n",
            "[3m 17s (700 23%) 1.6536]\n",
            "When A manion stan of shir leght a order garer in\n",
            "     Courly was that there wach up, tamot to mur oting from was our verared that that haly chould of hould the more mare rect crown ganed the preungersinever arning the han heaser of not geriet. This or \n",
            "\n",
            "[3m 43s (800 26%) 1.8921]\n",
            "Why of of. Nouse\n",
            "     was to and for andded my you know the her macute the offores to the farle all\n",
            "     houtke.\"\n",
            "\n",
            "     \"You daw silly marded the mive, I was up. 'And not the was you san\n",
            "     reraon the graraineds.\"\n",
            "     He right. Now ot'r\n",
            "     would a \n",
            "\n",
            "[4m 10s (900 30%) 1.6050]\n",
            "Whit waw I wirdow\n",
            "     fate till sooce sated was of tration\n",
            "     was withle norder was of the writing which also that had not am not from was halso harwer a crire that was outable and old not that, I that roursen to of dower that to\n",
            "     batson you mar \n",
            "\n",
            "[4m 39s (1000 33%) 1.8038]\n",
            "Which a find, \"hook cound my the smmed, at Gooms Shay the\n",
            "     eame was by book us there man a sto at the minto in to once resaker I finter. \"I the to gain ary minter hais a pome to miscapady efont of\n",
            "     sauthor elase treed finter, the sont sie; and\n",
            " \n",
            "\n",
            "[5m 10s (1100 36%) 1.6677]\n",
            "Wherled of whis howaded the yeser.\"\n",
            "\n",
            "     \"I howed sho tamved greation. The searnos, ady came then left the sore, the sry could\n",
            "     snot cour ead,\" the put hand had shaper shake uper a froge of the wich catge, and enher. You for of housef, a deather\n",
            "  \n",
            "\n",
            "[5m 44s (1200 40%) 1.6924]\n",
            "Whut I of cain the light borning if of there it but the\n",
            "     the but a cloyght abacbare. It i I could the hold as the chony, in thelp, and Swell can ward. My befent whire, and have to caring to man the woully which an all have back in that\n",
            "     the hav \n",
            "\n",
            "[6m 17s (1300 43%) 1.7298]\n",
            "Where to hold orsed one not man sere, the cord has sat\n",
            "     to be he hander?\"\n",
            "\n",
            "     \"His to slisitil eet where very. Ip the kess the mix let the but thing our. Which the plock\n",
            "     interew.\"\n",
            "\n",
            "     \"Vere of exthere the keem. Onuablittion jusk bretter-ma \n",
            "\n",
            "[6m 46s (1400 46%) 1.6494]\n",
            "Whis. Honslun his not. There be\n",
            "     one it which the kecimen of the one mome. He you and thind into\n",
            "     indined, bold over's presicry hine!\"\n",
            "\n",
            "     \"Then of I amboken shillow in see. The trugze out it his mear, ant have said fint. He doin!\"\n",
            "     \"Deat \n",
            "\n",
            "[7m 12s (1500 50%) 1.5206]\n",
            "Whis. I know. I stried, an a were the prockary the and the us in and this the we worlys of the\n",
            "     rown fard of there a would doting which moor, who was to my to to his doo found motedwo noted a linted,\n",
            "     good in streess and crecy fealasing with in \n",
            "\n",
            "[7m 37s (1600 53%) 1.7610]\n",
            "Whir was the chaple a cincad ducken for the boddent the gay you have detandered surried\n",
            "     been the distone at for up to then blesoly.\"\n",
            "\n",
            "     \" A strythed, as this will come aluse. Your cairly the very bettendind for trees, the deat was these was hav \n",
            "\n",
            "[8m 2s (1700 56%) 1.6055]\n",
            "Wher one, Mnathy for, would. \"And not stere. \"I limts was and upared\n",
            "     stranged and and some.\"\n",
            "\n",
            "     \"'I sfore.\" And of glurat?\"\n",
            "\n",
            "     \"He little for surion up his resurtion a\n",
            "     till all say and from upone any,\" see are them.  \"Whas all Strued th \n",
            "\n",
            "[8m 28s (1800 60%) 1.5470]\n",
            "Whe boy hid so ground yoursed the one fair\n",
            "     Holmes that wonded them or the of the there urrond out and work and should to drearver answer suspers the\n",
            "     umled of it he, within to the tway and beresseasesion! That.\n",
            "\n",
            "     I had other arew and hound \n",
            "\n",
            "[8m 53s (1900 63%) 1.6972]\n",
            "Whis line been ald callone Wimesson poinetenes,\n",
            "     and head as that it in should in you are sprise been been and his caidly a mantinugh.\"\n",
            "\n",
            "     \"I gine fase. Men is onaler no all side he a looked to the all escarple for that I't to we criestage, will \n",
            "\n",
            "[9m 18s (2000 66%) 1.5702]\n",
            "Whis ark a promirs beterned a catter as yount by the may afolt; an minry and shich\n",
            "     I havas remattling you rattuck oo dictitias a dooled our a from our better are\n",
            "     stration a hims in the ove sils what Cokutly a\n",
            "     the pual was cansine chept t \n",
            "\n",
            "[9m 43s (2100 70%) 1.6634]\n",
            "Where to down,\n",
            "     thoss which hours concound and bether. He confor fay was the\n",
            "     bets it he wals what was staming it he do mange, was one of the\n",
            "     came to every was have dound. I addy not he quabting suight the\n",
            "     carget got have fait of the  \n",
            "\n",
            "[10m 8s (2200 73%) 1.7651]\n",
            "Where the\n",
            "     for his own just where and not his\n",
            "     fraw most few encel who had bele, the tunl by\n",
            "     down't was all the prowave room to alsorly to the right, Elotturn. It was\n",
            "     the courter those the pashed the launs. \"There not a a\n",
            "     cathelr \n",
            "\n",
            "[10m 33s (2300 76%) 1.6934]\n",
            "What which to am?\"\n",
            "\n",
            "     \"Well, We word this kettal, that she is had of until's you, and my the been the dist down frauth. My thought that is there shonpents.\"\n",
            "     \"\"It was apmare in at have bet to the prenver a shriml for alson the grimned?\"\n",
            "\n",
            "     \"' \n",
            "\n",
            "[10m 58s (2400 80%) 1.7600]\n",
            "Who if the had terrong in they\n",
            "     chas it link a into your nes at intoldant to that it there a at stracked friage in not can\n",
            "     as he are how to had opent at timen. You, and the sare only.\n",
            "\n",
            "     \"I had clearter!\" horents.'\n",
            "\n",
            "     \"No carieyted to pr \n",
            "\n",
            "[11m 23s (2500 83%) 1.6681]\n",
            "Whentress, adverow, the may adfear of yould that if the fealth anside of with the ant orpoise, With\n",
            "     gives only in usitans the lublally than on there\n",
            "     have the pointibly that lether which when\n",
            "     a mant to cirts that ack the man, to the tours \n",
            "\n",
            "[11m 48s (2600 86%) 1.8015]\n",
            "Wheroused\n",
            "     the might one from where corristant one beconeight my asked your stress to\n",
            "     sirson the dudgous it, he strists have for are sore could bet to\n",
            "     new the made, wouldge of the we meal with the all-inertrow one who a letted are in he s \n",
            "\n",
            "[12m 13s (2700 90%) 1.5177]\n",
            "Whanning to from I wishens she adman.\n",
            "     \"I don the sor have as the own low that I a room Wark to still, with a mered ary thries which the otherly of the legs interly once their more unts of his\n",
            "     warked to a tall yesty and that of me and then I l \n",
            "\n",
            "[12m 39s (2800 93%) 1.4647]\n",
            "Why colursion were proffic in the neclovents and would is to or\n",
            "     likest appost face which is noting a drepationly in exmousition.\n",
            "\n",
            "     \"That is the poudly notrect could and fee, but of which hay one jug\n",
            "     should. In one imparanting my could ste \n",
            "\n",
            "[13m 4s (2900 96%) 1.6714]\n",
            "What when he ludned a seement you hard brow round from the is rear of the\n",
            " \n",
            "     new able are dus enist undour read\n",
            "     at from when Mrs thirder at neadyster not the dise is mo upon advies ir. one cash my thing hand with\n",
            "     he were becour take of th \n",
            "\n",
            "[13m 30s (3000 100%) 1.6260]\n",
            "Whe the\n",
            "     poim tell have had to a sev in it sever had procame Hirried, it as path lear, the pass of state my\n",
            "     ponistles some a very my reemipaon which he with however cally on aldectel as I\n",
            "     have smatietions. And sever well be officied your  \n",
            "\n"
          ]
        }
      ]
    },
    {
      "cell_type": "code",
      "source": [
        "%matplotlib inline\n",
        "\n",
        "plt.figure()\n",
        "plt.plot(all_losses_it_3)\n",
        "plt.title('Training Loss Curve of RNN Iteration 3');"
      ],
      "metadata": {
        "colab": {
          "base_uri": "https://localhost:8080/",
          "height": 281
        },
        "outputId": "2d15041d-cfe6-4497-bfec-a179defbc838",
        "id": "6beZGLKH0CjN"
      },
      "execution_count": null,
      "outputs": [
        {
          "output_type": "display_data",
          "data": {
            "text/plain": [
              "<Figure size 432x288 with 1 Axes>"
            ],
            "image/png": "[encoded data removed]"
          },
          "metadata": {
            "needs_background": "light"
          }
        }
      ]
    },
    {
      "cell_type": "code",
      "source": [
        "all_losses_it_3[-1]"
      ],
      "metadata": {
        "colab": {
          "base_uri": "https://localhost:8080/"
        },
        "id": "g0RbpEwy04us",
        "outputId": "388f262b-94e8-4761-b166-206640b3801c"
      },
      "execution_count": null,
      "outputs": [
        {
          "output_type": "execute_result",
          "data": {
            "text/plain": [
              "1.6212030181884767"
            ]
          },
          "metadata": {},
          "execution_count": 71
        }
      ]
    },
    {
      "cell_type": "markdown",
      "source": [
        "**Iteration 4**\n",
        "\n",
        "**Changed hyperparameters:**\n",
        "- `n_epochs` = 2000\n",
        "- **`hidden_size` = 200**\n",
        "- **`n_layers` = 3**\n",
        "- `lr` = 0.005\n",
        "- `temperature` = 0.8"
      ],
      "metadata": {
        "id": "YR5xyTJhthwr"
      }
    },
    {
      "cell_type": "code",
      "source": [
        "# hyperparameters\n",
        "n_epochs = 2000\n",
        "hidden_size = 200\n",
        "n_layers = 3\n",
        "lr = 0.005\n",
        "temperature = 0.8"
      ],
      "metadata": {
        "id": "gpoVcEdx0DTF"
      },
      "execution_count": null,
      "outputs": []
    },
    {
      "cell_type": "code",
      "source": [
        "decoder = RNN(n_characters, hidden_size, n_characters, n_layers)\n",
        "decoder_optimizer = torch.optim.Adam(decoder.parameters(), lr=lr)\n",
        "criterion = nn.CrossEntropyLoss()\n",
        "\n",
        "start = time.time()\n",
        "all_losses_it_4 = []\n",
        "loss_avg = 0\n",
        "\n",
        "for epoch in range(1, n_epochs + 1):\n",
        "    loss = train(*random_training_set())       \n",
        "    loss_avg += loss\n",
        "\n",
        "    if epoch % print_every == 0:\n",
        "        print('[%s (%d %d%%) %.4f]' % (time_since(start), epoch, epoch / n_epochs * 100, loss))\n",
        "        print(evaluate('Wh', 250), '\\n')\n",
        "\n",
        "    if epoch % plot_every == 0:\n",
        "        all_losses_it_4.append(loss_avg / plot_every)\n",
        "        loss_avg = 0"
      ],
      "metadata": {
        "colab": {
          "base_uri": "https://localhost:8080/"
        },
        "outputId": "617bbff0-6620-44de-cd8a-5781bb72fcee",
        "id": "aO05wlbH0DTF"
      },
      "execution_count": null,
      "outputs": [
        {
          "output_type": "stream",
          "name": "stdout",
          "text": [
            "[0m 39s (100 5%) 2.3280]\n",
            "Whe, I od rerenyy for anle ofref ftat't.\n",
            "    lesih\n",
            "    han fin, mah nes rud tinl han belt avotanses the anu bot he stretis fong hiomis\n",
            "    un rerint is ond raed sto ind\n",
            "    thaveg maont mome threr, pyey fof har, thirind tharin relive, of\n",
            "    tas hen ot \n",
            "\n",
            "[1m 20s (200 10%) 2.3584]\n",
            "Wher mow noone ther becle pear.\"\n",
            "      Ive\n",
            "     in hard he, ard ecave aee fesed ave on of nair\n",
            "      Wead whe ove ther sale with, yithed av, ad reeand non, als and and in at\n",
            "     Wolender monet warper and hice o braneed cosyed ruark ant the conenedt, a \n",
            "\n",
            "[1m 59s (300 15%) 1.9688]\n",
            "Wh and Woul kang, the\n",
            "     ferestene paureson and al and pron neren and fase, the ceantene his and and the wou,  and hing no ugh has fand she sardet and aning on gary of and eblom hingh fule as therne.\"\n",
            "\n",
            "     Hon, ann inthe, sixe ning. Dor Mrestaate ot \n",
            "\n",
            "[2m 39s (400 20%) 1.9025]\n",
            "Whally bogly the\n",
            "     lay we shown ringent the hive shour had in ham the messt shollid bexwider fiilt has son hallnowy the count greach is one ginging\n",
            "     a muser, havoid in hy hads no would suind whim the that ses wish one hound and wer that to in an \n",
            "\n",
            "[3m 19s (500 25%) 1.8181]\n",
            "Whage. I mutles shome. \"I her.\n",
            "\n",
            "     \"Stoly swil the callense I shayssoer with smed of somes indeens unsey,\" that to sime for she some we his that I gay whor have and  alll he incozely, it for agalenmorring plock opmeed was\n",
            "     I kefoled ases that sel \n",
            "\n",
            "[3m 58s (600 30%) 1.8341]\n",
            "Whered the for, here freaterearee.\n",
            "\n",
            "    \"The meterere kracking as the he an had fid of colf hall withere to sheye leintel. I cunteer at ar wen lookered, at daysonered. Ithar, hall deem he he here and\n",
            "     soI knemegreteen hage were real. I face frlare  \n",
            "\n",
            "[4m 38s (700 35%) 2.1913]\n",
            "What the do. If to me lided puper that at a\n",
            "     shaund this have turled, gearm that to dome pusighat and was what the do pore, and mall time in gived into do, a sive Ise sidoo-down a bur and he have he mack which the vadifur roust upprow to I pan whid \n",
            "\n",
            "[5m 17s (800 40%) 1.6301]\n",
            "Which to les; Dows every on one aboout. \"I was for it conder knealed and he\n",
            "     wover\n",
            "     window. \"Wy the\n",
            "     might wouing that to to not of want. I made to eved it the you to hely to for helmeningly it was \"bood and at\n",
            "     the hand cond to he pram \n",
            "\n",
            "[5m 57s (900 45%) 1.8431]\n",
            "What losta, the crraired eave is his have which hour we ristlatiaken the at it whis have his here that of that it explates it, arled bigh is be fet and hack, it it the grides-uind risoulid terairs stactair that his it, woiven the his bave the the try h \n",
            "\n",
            "[6m 37s (1000 50%) 1.7188]\n",
            "Whan the\n",
            "     have neow. Some his which the\n",
            "     give in the leach him house dremated my would on of the deed. Which who the ret he hear the had for disted the cold cord the the money you wortic the groom. The deat from and\n",
            "       chcloned to firm and  \n",
            "\n",
            "[7m 17s (1100 55%) 1.8388]\n",
            "Whis at mas find to was\n",
            "     abeption to have her was that and which in my was the fagain, sho. 'The are sir shart stilg. The said the was was which sight all o'f ran thill the\n",
            "     white to my fare forn, th said at the with white tro'g-Mhed the case.' \n",
            "\n",
            "[7m 56s (1200 60%) 1.6299]\n",
            "Which has an'ther the comason daid the reae, his the is have sir chan he. No one mustion the\n",
            "     hame\n",
            "     sear he have and and mure the getter there and countite.\"\n",
            "\n",
            "     \"\"We lasuch a tocked the turater man has matty. I thoughe his his haper and anes \n",
            "\n",
            "[8m 36s (1300 65%) 1.5457]\n",
            "Who cant to when of harne casly trare exo up gold. \"There the hoyce in a wist of hore by a to beatie thing was the cick case a as bemeat freme the\n",
            "     ouch of the the wice a sird go of the come have clonker. Bould appean, his seard was a coning\n",
            "     b \n",
            "\n",
            "[9m 17s (1400 70%) 1.6477]\n",
            "Whe midd ramp of the  sprepplity. We criod and the\n",
            "     go the se pully that he\n",
            "     the paped which abotted of to he. \"Do at and dire the\n",
            "     to have and fors gount bters. he for in not of upon to as to not we over at your tell had of the drowthe to  \n",
            "\n",
            "[9m 57s (1500 75%) 1.9855]\n",
            "Which and the dew or, and pore't misting of your but the\n",
            "     concer, their saile to the not was saw his very trean to all the the light, Jon.\"\n",
            "\n",
            "     Onnere work hanis, Holurise, was the worked, thrower the leng Manctel of they will loded\n",
            "     of the m \n",
            "\n",
            "[10m 37s (1600 80%) 1.9043]\n",
            "Whis houch por, and she read, an and have; a ve, when the it's was inteccin, and his a daure a longe do doal sosply can when aftart her and the vitation and and be\n",
            "     and of the pas rappon his for with his be and it in fough broffing an his posing, a \n",
            "\n",
            "[11m 17s (1700 85%) 1.7202]\n",
            "Whit but the cabe. You dressed\n",
            "        leav the crges allfisirent of this ground you shall litts\n",
            "     deare a concotiuble\n",
            "     disaid such a fifficurs the slous from the clect than and usie that faided the clouse, and it that plasingure rouase en\n",
            "      \n",
            "\n",
            "[11m 59s (1800 90%) 1.6564]\n",
            "Whe have you hade\n",
            "     rack gurt to woor. There dries interest loukn remore was very desce on this\n",
            "     dave learvisming in spice high was have my was affervardering\n",
            "     stall remabe instaint him of dering of my sald of sorressure me being we curlimpr \n",
            "\n",
            "[12m 39s (1900 95%) 1.8939]\n",
            "Whink who hew with a time.\n",
            "\n",
            "     \"You evur not his\n",
            "     me I shark works is inforeset, I stopss,\n",
            "     he shapage, Mlay assed the\n",
            "     her redound. Holmes.\n",
            "\n",
            "     This,\" slows, at and  hadded. What she asked he is A shosis.\"\n",
            "\n",
            "     \"There is his and bid a \n",
            "\n",
            "[13m 20s (2000 100%) 1.8050]\n",
            "Whe no denty, I ward the reat in which which May you leady, I cant was facter, wortone face not a dund whore his a\n",
            "     whis yardemer, intiso I pan cailf wake never his have to was it word,\n",
            "     you no was you and goor, sor. I mugented frong, and \"pant \n",
            "\n"
          ]
        }
      ]
    },
    {
      "cell_type": "code",
      "source": [
        "%matplotlib inline\n",
        "\n",
        "plt.figure()\n",
        "plt.plot(all_losses_it_4)\n",
        "plt.title('Training Loss Curve of RNN Iteration 4');"
      ],
      "metadata": {
        "colab": {
          "base_uri": "https://localhost:8080/",
          "height": 281
        },
        "outputId": "e340a075-c00c-4b37-9807-0bcfd5aa5cee",
        "id": "H_PYkBuJ0DTG"
      },
      "execution_count": null,
      "outputs": [
        {
          "output_type": "display_data",
          "data": {
            "text/plain": [
              "<Figure size 432x288 with 1 Axes>"
            ],
            "image/png": "[encoded data removed]"
          },
          "metadata": {
            "needs_background": "light"
          }
        }
      ]
    },
    {
      "cell_type": "code",
      "source": [
        "np.savetxt('losses_iteration4.txt', all_losses_it_4)"
      ],
      "metadata": {
        "id": "lOTDkQ-dqf8c"
      },
      "execution_count": null,
      "outputs": []
    },
    {
      "cell_type": "code",
      "source": [
        "all_losses_it_4[-1]"
      ],
      "metadata": {
        "colab": {
          "base_uri": "https://localhost:8080/"
        },
        "id": "efZoVo1m080u",
        "outputId": "47b8bb95-57c3-4d09-e356-6bf61fd6db84"
      },
      "execution_count": null,
      "outputs": [
        {
          "output_type": "execute_result",
          "data": {
            "text/plain": [
              "1.7952188873291015"
            ]
          },
          "metadata": {},
          "execution_count": 80
        }
      ]
    },
    {
      "cell_type": "markdown",
      "source": [
        "**Iteration 5**\n",
        "\n",
        "**Changed hyperparameters:**\n",
        "- `n_epochs` = 2000\n",
        "- `hidden_size` = 100\n",
        "- **`n_layers` = 2**\n",
        "- `lr` = 0.005\n",
        "- **`temperature` = 0.5**"
      ],
      "metadata": {
        "id": "kETO4YU06yed"
      }
    },
    {
      "cell_type": "code",
      "source": [
        "# hyperparameters\n",
        "n_epochs = 2000\n",
        "hidden_size = 100\n",
        "n_layers = 2\n",
        "lr = 0.005\n",
        "temperature = 0.5"
      ],
      "metadata": {
        "id": "SbbMObZl6yed"
      },
      "execution_count": null,
      "outputs": []
    },
    {
      "cell_type": "code",
      "source": [
        "decoder = RNN(n_characters, hidden_size, n_characters, n_layers)\n",
        "decoder_optimizer = torch.optim.Adam(decoder.parameters(), lr=lr)\n",
        "criterion = nn.CrossEntropyLoss()\n",
        "\n",
        "start = time.time()\n",
        "all_losses_it_5 = []\n",
        "loss_avg = 0\n",
        "\n",
        "for epoch in range(1, n_epochs + 1):\n",
        "    loss = train(*random_training_set())       \n",
        "    loss_avg += loss\n",
        "\n",
        "    if epoch % print_every == 0:\n",
        "        print('[%s (%d %d%%) %.4f]' % (time_since(start), epoch, epoch / n_epochs * 100, loss))\n",
        "        print(evaluate('Wh', 250), '\\n')\n",
        "\n",
        "    if epoch % plot_every == 0:\n",
        "        all_losses_it_5.append(loss_avg / plot_every)\n",
        "        loss_avg = 0"
      ],
      "metadata": {
        "colab": {
          "base_uri": "https://localhost:8080/"
        },
        "outputId": "c2bd6faf-8f9e-481b-b1a8-30cac922a663",
        "id": "NvH4-8tF6yed"
      },
      "execution_count": null,
      "outputs": [
        {
          "output_type": "stream",
          "name": "stdout",
          "text": [
            "[0m 21s (100 5%) 2.0895]\n",
            "Whell,.\n",
            "     htse noreree ceras otand.\n",
            "     has, ind she fan male imis, she come aben\n",
            "     relaltil foury an maronund\n",
            "    \"terist are it ume m orles y.\n",
            "      ror romalen HorWad. hereronun a.\" ttho mese theft ald omerre the \"setet bee as sures ursim the \n",
            "\n",
            "[0m 40s (200 10%) 1.9058]\n",
            "Wher of I whith he\n",
            "     has \"hat an he tato .  the syou the is I\n",
            "     hiritike ass the ange wall a that thas you\n",
            "     I wastes he to the a\n",
            "      wive stionque Men itifaly herild winthill\n",
            "     ind thare, no wiss\n",
            "     ill mith As, thas mauthou soghat won \n",
            "\n",
            "[1m 0s (300 15%) 1.9559]\n",
            "Wher.\n",
            "\n",
            "     \"Holulsed\n",
            "     roween weark the in on he be the he resse thad I mom oo hide me house much the seent ar for see trom an he in oker in her oving her thing word ome to wher undomimeed for sing anded\n",
            "     by her mame and on ghe jould fead the w \n",
            "\n",
            "[1m 21s (400 20%) 1.7728]\n",
            "Which sarrell, my man slolthio thrugcand of so coplife brout uard. I pruch is lits i srion sound, verolr sice ame ges thout with my starur. I sashe, I the dick. \"ure your alt you the cy cory with wasbent. \"The all mondision earter you the moaws I greil \n",
            "\n",
            "[1m 42s (500 25%) 1.9074]\n",
            "Where me and ins gain son fainsted to the which and wean whing the prienger theme wo me deer\n",
            "     a the to tat to with to the smeeram to the to sernice from of the say,  Strited with the sown't grimed\n",
            "     was been my the this with we it me but and the \n",
            "\n",
            "[2m 2s (600 30%) 1.7532]\n",
            "Whacs spified thowere soum weritn meanters all, and sey dlich he mant, seated could he farer dor murd. Ach you the all my have the\n",
            "     veraid though for that yead the sain can of the monch on, have packed for the all\n",
            "     had a was ampey to Garly\n",
            "     \n",
            "\n",
            "[2m 23s (700 35%) 1.6152]\n",
            "Whe compaem.\"\n",
            "\n",
            "     \"I call us agest have and dect been to it called you selly the say more lonk,\" evered. \"I muder\n",
            "     to sits of gect of have feale you proning and he mery for on and mused of heared of a me so, and to yeom tabe as gains, and as so,  \n",
            "\n",
            "[2m 47s (800 40%) 1.7536]\n",
            "Where's that in the peard offor that and derows inthis had a fare was down he was about\n",
            "      quitt puigle to had with his lrot rungirener from me I brook. He What no have you myse we it parred that as a rathing crantfurelsing theas cure was but I had  \n",
            "\n",
            "[3m 10s (900 45%) 1.7315]\n",
            "Where friely\n",
            "     these faping of thele gurt. I vent that by that in the a priues wenter mess heart.\"\n",
            "\n",
            "     \"I me which shard thing friest frectictner brition thim theef hears one formege in that then for that herse shories with these hent geen thought \n",
            "\n",
            "[3m 33s (1000 50%) 1.7764]\n",
            "Whith in cover was to were worders with know? You appliph of the viaten, as if be-with stread the got\n",
            "     a man me sorted it at to and cound onece the restace with it here upon am. \"Waterelver of the came. \n",
            "     \"Now reath eyed had in the cong was the \n",
            "\n",
            "[3m 52s (1100 55%) 1.7172]\n",
            "Whem elpetast dofors,\n",
            "     his at he to\n",
            "     excanted your post folmoce thing siday and madane the vares that the seed riely are there meste story is there myseantly\n",
            "     theat here carted, and to any which hary\n",
            "     poness thes, abnso my would interfu \n",
            "\n",
            "[4m 11s (1200 60%) 1.8936]\n",
            "When yould have more which\n",
            "     councery more of the mide\n",
            "     wald cris. Cistred who shad dished inthe sttrore a\n",
            "     and fir a lancess and the was deyes not cleast, And this so liagan there with eremer prioning\n",
            "     Frieen in she saze fine with, was  \n",
            "\n",
            "[4m 30s (1300 65%) 1.8845]\n",
            "Wh, handed to could with a fat and was brobe sad for amfures. Mer,, he sust to the at to\n",
            "     lize the with nother, save as a goot the stame rough have up it, and by at she\n",
            "     allow counter of the qurtes rear where would terties doon pointerer, and t \n",
            "\n",
            "[4m 49s (1400 70%) 1.5943]\n",
            "Whept rust the fattather racued the fe, A\n",
            "      where two the\n",
            "     le and bew had shight be\n",
            "     had faly fay a crool would had parsice, asfeened there her man the the adreest\n",
            "     shased and he fapitamed the platter a sind lay tage axarvilf in the fou \n",
            "\n",
            "[5m 8s (1500 75%) 1.6023]\n",
            "Whs, I a site it mad whhich was was could could for him Holmes in the with shaitious chomed witke forfay. I had be not that he\n",
            "     the wou I his fuls thew would sogen,s, in standind--was one on see head smally work the pust of the for and shoubtitaon  \n",
            "\n",
            "[5m 28s (1600 80%) 1.8651]\n",
            "Whyon the is it\n",
            "     sock, thenelt forfing that the\n",
            "     him. I; slow. \"The said the.  I her sit of the which lassay\n",
            "                           led and lable oven some.\"\n",
            "\n",
            "     \"Ve Bood will langess.\"\n",
            "\n",
            "     \"The ereavear. He scomes evbery nelved at the\n",
            " \n",
            "\n",
            "[5m 46s (1700 85%) 1.8788]\n",
            "Whain omhans, that on a\n",
            "     creelect with unture the was to the presseroning of a\n",
            "     not to this come, Chihe or, you, he to in to the he spoinery hord say a neestecth of the cosse, and thing well, I head the moperince. I sever to with sere,\n",
            "     \"ne \n",
            "\n",
            "[6m 5s (1800 90%) 1.8187]\n",
            "Whas was man to proom said speaning of\n",
            "     the was somer in that you lext are a my lose in a was me of the\n",
            "     who intart of this wome, and nave dalven of no now room with wanbutter of was my was then Same\n",
            "     wannis have throm watting who canned wa \n",
            "\n",
            "[6m 23s (1900 95%) 1.3856]\n",
            "Why\n",
            "     on my land be that we would litter, \"cherlawed to\n",
            "     of ever the moed that the shistaken and to which so but who hat it on his was as\n",
            "     mother so thert opes is\n",
            "     so it berangery did his as his more in that is would my man, what the\n",
            "    \n",
            "\n",
            "[6m 41s (2000 100%) 1.8022]\n",
            "Whixt.  We the Carning that I said so pressernied frous well wan gurst facight--a moat of the and the was. Then this is shad a clided when I had\n",
            "     that it it is some that the do band the had away bet-of the was after what eardy slecth a face of you  \n",
            "\n"
          ]
        }
      ]
    },
    {
      "cell_type": "code",
      "source": [
        "%matplotlib inline\n",
        "\n",
        "plt.figure()\n",
        "plt.plot(all_losses_it_5)\n",
        "plt.title('Training Loss Curve of RNN Iteration 5');"
      ],
      "metadata": {
        "colab": {
          "base_uri": "https://localhost:8080/",
          "height": 281
        },
        "outputId": "ffd003e7-95c7-4282-f05e-be0422d51738",
        "id": "Brpmd86R6yed"
      },
      "execution_count": null,
      "outputs": [
        {
          "output_type": "display_data",
          "data": {
            "text/plain": [
              "<Figure size 432x288 with 1 Axes>"
            ],
            "image/png": "[encoded data removed]"
          },
          "metadata": {
            "needs_background": "light"
          }
        }
      ]
    },
    {
      "cell_type": "code",
      "source": [
        "all_losses_it_5[-1]"
      ],
      "metadata": {
        "colab": {
          "base_uri": "https://localhost:8080/"
        },
        "outputId": "9279821d-a668-4572-f6b4-03cd0f08dc64",
        "id": "PF18tmrB6yee"
      },
      "execution_count": null,
      "outputs": [
        {
          "output_type": "execute_result",
          "data": {
            "text/plain": [
              "1.634117172241211"
            ]
          },
          "metadata": {},
          "execution_count": 85
        }
      ]
    },
    {
      "cell_type": "markdown",
      "source": [
        "**Iteration 6**\n",
        "\n",
        "**Changed hyperparameters:**\n",
        "- `n_epochs` = 2000\n",
        "- `hidden_size` = 100\n",
        "- **`n_layers` = 2**\n",
        "- `lr` = 0.005\n",
        "- **`temperature` = 1.5**"
      ],
      "metadata": {
        "id": "L12xzlK07m-f"
      }
    },
    {
      "cell_type": "code",
      "source": [
        "# hyperparameters\n",
        "n_epochs = 2000\n",
        "hidden_size = 100\n",
        "n_layers = 2\n",
        "lr = 0.005\n",
        "temperature = 1.5"
      ],
      "metadata": {
        "id": "fERV0aMv7m-f"
      },
      "execution_count": null,
      "outputs": []
    },
    {
      "cell_type": "code",
      "source": [
        "decoder = RNN(n_characters, hidden_size, n_characters, n_layers)\n",
        "decoder_optimizer = torch.optim.Adam(decoder.parameters(), lr=lr)\n",
        "criterion = nn.CrossEntropyLoss()\n",
        "\n",
        "start = time.time()\n",
        "all_losses_it_6 = []\n",
        "loss_avg = 0\n",
        "\n",
        "for epoch in range(1, n_epochs + 1):\n",
        "    loss = train(*random_training_set())       \n",
        "    loss_avg += loss\n",
        "\n",
        "    if epoch % print_every == 0:\n",
        "        print('[%s (%d %d%%) %.4f]' % (time_since(start), epoch, epoch / n_epochs * 100, loss))\n",
        "        print(evaluate('Wh', 250), '\\n')\n",
        "\n",
        "    if epoch % plot_every == 0:\n",
        "        all_losses_it_6.append(loss_avg / plot_every)\n",
        "        loss_avg = 0"
      ],
      "metadata": {
        "colab": {
          "base_uri": "https://localhost:8080/"
        },
        "outputId": "3c56761d-ba75-4136-b495-f814b73862b6",
        "id": "OEJVF7Wf7m-f"
      },
      "execution_count": null,
      "outputs": [
        {
          "output_type": "stream",
          "name": "stdout",
          "text": [
            "[0m 18s (100 5%) 2.2511]\n",
            "Wheich hof epry lis hed of forrlawh\"\n",
            "     hat hap ow os whanmeinl a btive urthe, beleercaithay ve. pvelame otumes whid\n",
            "\" \"\" hever in irhe\n",
            "      he ftyise he the ie wer. he mesfeergin morond fame lad rethre\n",
            "     the hanchind in the lie lao skele, hat th \n",
            "\n",
            "[0m 37s (200 10%) 1.9902]\n",
            "Whovef fato lerell ment pwer\n",
            "     was I beses enely bof yoom fou lanesrle and to sumy thand of and of pone han, whaf\n",
            "     wan of apatten mal bester whe the sall bedet ungel wat of whuy indert\n",
            "     fonesisy ant, leacle has lugh wad emlasgy in Brom? has  \n",
            "\n",
            "[0m 56s (300 15%) 1.7883]\n",
            "Whardeld had sodeld thy seed om our whin befe\n",
            "     and then morn, ow bees. Out bu roch tesame hat the fror, and he hour end whher has had the staterned hat the up And hhe have pler\n",
            "      and the wee here the breolon. Ame sed in had nout preere the jeme \n",
            "\n",
            "[1m 17s (400 20%) 1.7847]\n",
            "Wheres and the\n",
            "     no he had verelle, hat hold, Amed read fares of that and his my. That nown thed of to qavore whered of the of The\n",
            "     sintion dreting tund code that lids! I wing into ly. I hat of the cace. Holmed don hmes, int come, a prolly was a \n",
            "\n",
            "[1m 38s (500 25%) 1.7853]\n",
            "Whim and nith the rewis was say an sould done on as st have see goome ups manesene wither we where as was cotorning ever in the mer. It it whas her dich\n",
            "     me cult to bouke down was man eree comman; senlesined shantrild. It rear but lattsatime are wh \n",
            "\n",
            "[1m 57s (600 30%) 1.8836]\n",
            "Wher the dope. Bact, tor the the all up frout the had\n",
            "     sige the room. It a dister our fack at to fercelge the worgered to tuding-stancie.\n",
            "\n",
            "     \"That qu10[01O0@%^=>(1X09tt that that a round a dook a wat momes doger and shreadt. He pooked to varron, \n",
            "\n",
            "[2m 17s (700 35%) 1.8830]\n",
            "Whe we see of not on the that that ir the\n",
            "     lone of is to see the whoorses was sely.\"\n",
            "\n",
            "     \"Now, and see so, ous a lefll, 'n we deagined\n",
            "     we lo the seysed time goull the iph the new hore the sepoled the the be an, and whiched we all you he repr \n",
            "\n",
            "[2m 36s (800 40%) 1.6257]\n",
            "Whe the for, Mre. \"Here he had had thas\n",
            "     the cent the was she deteraned to you it thessred of the surepese.\"\n",
            "\n",
            "       \"Eve andy the porssest the hirfice abothing there end is quasty the she\n",
            "     been the whie im from me this kate, who seathed night  \n",
            "\n",
            "[2m 55s (900 45%) 2.0622]\n",
            "Which the whom for it ordo his or\n",
            "     hant thusted it frontion, and the the was befollooker upon I facle of of a conter leat of it our hat it what\n",
            "     I seroning before of my\n",
            "     before it afther greag mind very upenting the Corsith unking his read  \n",
            "\n",
            "[3m 16s (1000 50%) 1.5646]\n",
            "Who the was the were\n",
            "     undering from an the nerver bunty again, cleastight far a the no was has,\n",
            "     hard and in stained as whatterth that, us the herest me the\n",
            "     same lueforver graind\n",
            "     the frem the have the raving us there to the crusion a  \n",
            "\n",
            "[3m 36s (1100 55%) 1.7231]\n",
            "Whill no hease that you hove stafed him cae for firrient of Jerowedpested my blowen that\n",
            "     hust that of ary haster farth digneaching of affrestent his clible beenter thig\n",
            "     or as to me with only not to what her notmer bon that you come.\n",
            "\n",
            "     \"Th \n",
            "\n",
            "[3m 55s (1200 60%) 1.8051]\n",
            "Whimpice. Shere su from the paser from the\n",
            "     nack to I seps chation which hat us that is firss. Wilks the bopen which we\n",
            "     bof as to a sangulange to I lost that I his could in a he\n",
            "     rapd up had coursed hat that he but the spectake forneonelly \n",
            "\n",
            "[4m 18s (1300 65%) 1.6395]\n",
            "Whing could upon the sough I figck she have knoo can\n",
            "     plake dirsines, I the is sucutiunster's one you\n",
            "     strace all face, long was with door.\"\n",
            "\n",
            "     \"Holmes. I chain a face for. And the ran\n",
            "     as for the rous for by son ithey suss with consice  \n",
            "\n",
            "[4m 36s (1400 70%) 1.5303]\n",
            "Whink that?' \"Whhil that his\n",
            "     summer thit possion his pain to in From at with that. I have his\n",
            "     oper the have the force the far and that what that. There. \"The potol, where the said he\n",
            "     could been that the was an to the my for More of may p \n",
            "\n",
            "[4m 55s (1500 75%) 1.4621]\n",
            "Wh and a sood in so Hang the in the shind a clarduther room our the came out was expart a\n",
            "     now to dast the added a datsage a day a condange a pleasre the durnerang\n",
            "     thrage or acried to dame.  Hall to readisted what where mean and a, and a ting  \n",
            "\n",
            "[5m 13s (1600 80%) 1.8037]\n",
            "Whis my in an me. For the may mistarmes and\n",
            "     regarmons with re Houstlare itsay him this shis good he dour\n",
            "     sechord eyes dock the pursicar.\"\n",
            "\n",
            "     \"'It my can see a conpement the thonay. Watse all some my to plackerry you.\n",
            "\n",
            "     \"I rouge been mi \n",
            "\n",
            "[5m 32s (1700 85%) 1.8114]\n",
            "Why Mll when my figed to expectien think\n",
            "     mind hose, that I, por is hild throom therie, and\n",
            "     resprewa--persil ral down the still expable\n",
            "     bomen may were with manget implissived to had magnt aworted which\n",
            "     thinds me an with do the mayle  \n",
            "\n",
            "[5m 52s (1800 90%) 1.5840]\n",
            "Which sime to in the reture to the choor. But the coundly\n",
            "     she is to the have hill be--crome inted inone way the to meebly. Well, in exprossicam is was with\n",
            "     to the comuple to could and you was heant.\"\n",
            "\n",
            "     \"It with your fyoo-- imady care spee \n",
            "\n",
            "[6m 10s (1900 95%) 1.6556]\n",
            "Wh goad set, and the howed it was the dear the\n",
            "     to the retime be deary a aroused out you\n",
            "     him end man the neward was becher since a nare findablrey and speary allew cordered the not of any grignes the reart age at her reswo. The knampobles work \n",
            "\n",
            "[6m 29s (2000 100%) 1.7215]\n",
            "Whif, and voight a gave, Mr you that, who cauld for\n",
            "     for the would the wexcudland but of this caul is the proped.\n",
            "\n",
            "     The reabe to can ladgle for a scards you, and the sallock was and than\n",
            "     mown all to the let that be back more pow and howe s \n",
            "\n"
          ]
        }
      ]
    },
    {
      "cell_type": "code",
      "source": [
        "%matplotlib inline\n",
        "\n",
        "plt.figure()\n",
        "plt.plot(all_losses_it_6)\n",
        "plt.title('Training Loss Curve of RNN Iteration 6');"
      ],
      "metadata": {
        "colab": {
          "base_uri": "https://localhost:8080/",
          "height": 281
        },
        "outputId": "f5644a36-f7f9-463f-9a8c-9950197ba99d",
        "id": "kJj_5uFs7m-f"
      },
      "execution_count": null,
      "outputs": [
        {
          "output_type": "display_data",
          "data": {
            "text/plain": [
              "<Figure size 432x288 with 1 Axes>"
            ],
            "image/png": "[encoded data removed]"
          },
          "metadata": {
            "needs_background": "light"
          }
        }
      ]
    },
    {
      "cell_type": "code",
      "source": [
        "all_losses_it_6[-1]"
      ],
      "metadata": {
        "colab": {
          "base_uri": "https://localhost:8080/"
        },
        "outputId": "d975b957-a264-4098-abd4-b03367cb4e15",
        "id": "6p-lFJKG7m-g"
      },
      "execution_count": null,
      "outputs": [
        {
          "output_type": "execute_result",
          "data": {
            "text/plain": [
              "1.685931884765625"
            ]
          },
          "metadata": {},
          "execution_count": 90
        }
      ]
    },
    {
      "cell_type": "markdown",
      "source": [
        "**Iteration 7**\n",
        "\n",
        "**Changed hyperparameters:**\n",
        "- `n_epochs` = 2000\n",
        "- `hidden_size` = 100\n",
        "- **`n_layers` = 3**\n",
        "- `lr` = 0.005\n",
        "- **`temperature` = 0.5**\n",
        "- **`chunk_len` = 500**"
      ],
      "metadata": {
        "id": "Z8hR-mzu79XI"
      }
    },
    {
      "cell_type": "code",
      "source": [
        "# hyperparameters\n",
        "n_epochs = 2000\n",
        "hidden_size = 100\n",
        "n_layers = 3\n",
        "lr = 0.005\n",
        "temperature = 0.5\n",
        "chunk_len = 500"
      ],
      "metadata": {
        "id": "GyIayGLA79XJ"
      },
      "execution_count": null,
      "outputs": []
    },
    {
      "cell_type": "code",
      "source": [
        "decoder = RNN(n_characters, hidden_size, n_characters, n_layers)\n",
        "decoder_optimizer = torch.optim.Adam(decoder.parameters(), lr=lr)\n",
        "criterion = nn.CrossEntropyLoss()\n",
        "\n",
        "start = time.time()\n",
        "all_losses_it_7 = []\n",
        "loss_avg = 0\n",
        "\n",
        "for epoch in range(1, n_epochs + 1):\n",
        "    loss = train(*random_training_set())       \n",
        "    loss_avg += loss\n",
        "\n",
        "    if epoch % print_every == 0:\n",
        "        print('[%s (%d %d%%) %.4f]' % (time_since(start), epoch, epoch / n_epochs * 100, loss))\n",
        "        print(evaluate('Wh', 250), '\\n')\n",
        "\n",
        "    if epoch % plot_every == 0:\n",
        "        all_losses_it_7.append(loss_avg / plot_every)\n",
        "        loss_avg = 0"
      ],
      "metadata": {
        "colab": {
          "base_uri": "https://localhost:8080/"
        },
        "outputId": "19232b59-8fde-4491-d05a-64f3ede52160",
        "id": "cWNFGDpA79XJ"
      },
      "execution_count": null,
      "outputs": [
        {
          "output_type": "stream",
          "name": "stdout",
          "text": [
            "[1m 9s (100 5%) 2.3249]\n",
            "Whetre liulre ohis 't th wet an wan laht it his ta wuraret mo\" ned hace sl. powine yocul, wuan tapde Bat sto fe to hobs. wte solou he of wupeves. he. yhe wame wu mens tan the he? wacang ba wat bull he chelsen a med mong, hos\n",
            "      han musre bat os cota \n",
            "\n",
            "[2m 15s (200 10%) 2.0851]\n",
            "Whes. No\n",
            "     ooned\n",
            "  \" Noight\n",
            "  I hough son cot. I theree dung in beortirling catintiok as wus hintut if is a corfher of yhesed disght had onand the\n",
            "     tand Has on-Whalreteson\n",
            "     he\n",
            "     goul there his are ospcodtele misng,\n",
            "\n",
            "     I afell\n",
            "     a ba \n",
            "\n",
            "[3m 20s (300 15%) 1.9526]\n",
            "Wh a I piser he there reastifard stend yuws is mundisiung a wus thery ad nbours women oht, ly saed and the of of in a rarss?\n",
            "\n",
            "     \"And, the ighed the\n",
            "     oner this wousedinishin. I\n",
            "     Anky moundactoves\n",
            "     a wtiand then. ich a untind in orineising \n",
            "\n",
            "[4m 27s (400 20%) 1.7368]\n",
            "Wh and sean and ppasineds bletter but the crek of\n",
            "     and ou the last molsice the shid\n",
            "     harn. I\n",
            "     soure\n",
            "     oun and soursgon with gratly wousang I opon a and the he to defps\n",
            "     ot triter. Mr I and there and you the care ont and\n",
            "     weal a g \n",
            "\n",
            "[5m 31s (500 25%) 1.6702]\n",
            "Whaed, I by is but mame to under the lackod. \"Faffortion for we madense, and beelkerous? I hand pace the couransantere to you gale at paice's to therure or norous it, in of and to her what of he are rausion, thout he to courled the bething jrembent be  \n",
            "\n",
            "[6m 37s (600 30%) 1.9272]\n",
            "Wh. He deft we in in hagge and the pretwer we in the complace that the which he howg, prant, the a ceensmesagan ever out in well\n",
            "     streed me gots mame heace in the And a cumred a very woring and compeched a crabks lars span that the comgether on ext \n",
            "\n",
            "[7m 43s (700 35%) 1.4880]\n",
            "Whis not of no back. Gef of ho face, I had not\n",
            "     it of that that I conder,\"\n",
            "\n",
            "     \"I greion.\n",
            "\n",
            "     \"I this no marked, a cond but trest,\" said,\" I there, and mader wasser.\"\n",
            "\n",
            "     \"\"But drach that have corvation are head is\n",
            "     not the soiden.\"\n",
            "\n",
            "     \n",
            "\n",
            "[8m 49s (800 40%) 1.7684]\n",
            "Whis been in of as are was was of of\n",
            "     streat. The am the narthing, and with it the of she condinest of the frare befroary so--ner ame of than of are has all insy frose and of mught i couchink of the crock\n",
            "     listit in oared soful of civer\n",
            "     he \n",
            "\n",
            "[9m 55s (900 45%) 1.8135]\n",
            "What out that was his best\n",
            "     card winding this some\n",
            "     empined, sir. I the arningy\n",
            "     poon sear in in a crapphing there boog sentery as our markid.\"\n",
            "\n",
            "     \"Flow Oh bond. I the\n",
            "     in the hall crincterst it the its and instation an\n",
            "     should s \n",
            "\n",
            "[11m 0s (1000 50%) 1.7626]\n",
            "Whe has park it pains. I beet whith door,\n",
            "     stabious bood how spacey tore down for,s absent and conpown igreees oution. \"the suggered. Jot boff of the the stasetting. It head of the pole'r, and of he stray, of a was a dreathered\n",
            "     santing lost an \n",
            "\n",
            "[12m 5s (1100 55%) 1.4559]\n",
            "Who this\n",
            "     in the poring of I murding, it put cried,\" said senty siest timples. It was tell lake I seen me I assisting him the for and\n",
            "     and at the recontinuuren complighter me that is a mady-must,\n",
            "     heaged at some as the stouped all by if the \n",
            "\n",
            "[13m 12s (1200 60%) 1.6229]\n",
            "Whe house clon\n",
            "     for and to led and and such repribled and only strise, less the should oblose as a than one inquinal of\n",
            "     He was work his go and think-the like the destered ut a criast up and and part-\"he\n",
            "     brist in this alrese hold from the  \n",
            "\n",
            "[14m 19s (1300 65%) 1.5354]\n",
            "Whe curdente you can his comprooving where they conpearers\n",
            "     the come impips the corning up, and chair which faced I\n",
            "     liate law for was been and the bouor that a loined for the\n",
            "     ofly him the like. I have coldarty be his colds inquil a belled \n",
            "\n",
            "[15m 25s (1400 70%) 2.0907]\n",
            "Whe lady are to about your heard, it,\" said her, our terright\n",
            "     his but, and couchn. \"I could be for point be not aber other faying as time to out you him.\n",
            "\n",
            "     \"I don the showed at to old lamped was until tout was a should have be conter from the  \n",
            "\n",
            "[16m 31s (1500 75%) 1.5776]\n",
            "Whodeston again you been applike to a\n",
            "     brocking spart that the pit with a gomation the to quart in a\n",
            "     better arives with the modested it. As and-lining the\n",
            "     were the gool windicont. 'It ago. That of the migut what the Croys in Horders you a \n",
            "\n",
            "[17m 35s (1600 80%) 1.7601]\n",
            "Whe had one of\n",
            "     made had coloes of the take a on exsed, and the polled to turned of asseched to\n",
            "     the for it, Mr. Sherlocked down the severged of the distrace, and my so speites with\n",
            "     the dispreted intencesterilling his of the sentragated od \n",
            "\n",
            "[18m 40s (1700 85%) 1.6826]\n",
            "Whose has fear. \n",
            "\n",
            "     \"Quite, as the walked the sucturting and a\n",
            "     thim, but nor the doubt who know righ an in the sull\n",
            "     Gor some two clold aplock of the inidiesed batter and glading for where in the\n",
            "     come came but fnewed what me. leave bee \n",
            "\n",
            "[19m 45s (1800 90%) 1.4809]\n",
            "Wh\n",
            "     It they alded all that I has could proper the prefore are of my recold thunder it that that the\n",
            "     comparplement of the quitel in man there is a\n",
            "     bestroved asked know diatiance have two about which have\n",
            "     his had tell from that hour of \n",
            "\n",
            "[20m 50s (1900 95%) 1.5354]\n",
            "What you have of might to me.\"\n",
            "\n",
            "     \"He came at I had exackent about is not my seservan's now unto to so bens of his was an was expited of it of the moners, and\n",
            "     me steard from hand was our mind, but it's us defurillos,\n",
            "                            \n",
            "\n",
            "[21m 55s (2000 100%) 1.4252]\n",
            "What I have cost and in the moxed you come with\n",
            "     oblesky clinaly, lye firned, \"we could you mony of is Colution, and by to the scamed.\n",
            "\n",
            "     \"The thill could looking that cuchook. It a may somp head the friar trose to street, and at hunds a great i \n",
            "\n"
          ]
        }
      ]
    },
    {
      "cell_type": "code",
      "source": [
        "%matplotlib inline\n",
        "\n",
        "plt.figure()\n",
        "plt.plot(all_losses_it_7)\n",
        "plt.title('Training Loss Curve of RNN Iteration 7');"
      ],
      "metadata": {
        "colab": {
          "base_uri": "https://localhost:8080/",
          "height": 281
        },
        "outputId": "3590cbe0-05d5-424c-89d1-c73a93e3c432",
        "id": "jkAZHxMI79XJ"
      },
      "execution_count": null,
      "outputs": [
        {
          "output_type": "display_data",
          "data": {
            "text/plain": [
              "<Figure size 432x288 with 1 Axes>"
            ],
            "image/png": "[encoded data removed]"
          },
          "metadata": {
            "needs_background": "light"
          }
        }
      ]
    },
    {
      "cell_type": "code",
      "source": [
        "all_losses_it_7[-1]"
      ],
      "metadata": {
        "colab": {
          "base_uri": "https://localhost:8080/"
        },
        "outputId": "d0938cf3-9a12-4c08-ee7d-a5240b6c161a",
        "id": "a1xtSpWo79XJ"
      },
      "execution_count": null,
      "outputs": [
        {
          "output_type": "execute_result",
          "data": {
            "text/plain": [
              "1.507133935546875"
            ]
          },
          "metadata": {},
          "execution_count": 100
        }
      ]
    },
    {
      "cell_type": "code",
      "source": [],
      "metadata": {
        "id": "YpQlp6Ob79XJ"
      },
      "execution_count": null,
      "outputs": []
    }
  ]
}